{
  "nbformat": 4,
  "nbformat_minor": 0,
  "metadata": {
    "colab": {
      "name": "CS6350_BigData_Project_SubProb_5.ipynb",
      "provenance": [],
      "collapsed_sections": []
    },
    "kernelspec": {
      "name": "python3",
      "display_name": "Python 3"
    },
    "language_info": {
      "name": "python"
    }
  },
  "cells": [
    {
      "cell_type": "markdown",
      "source": [
        "## ***Sub-problem 5:*** Correlation between the general climate of a county with the health of its population and availability of pharmacies."
      ],
      "metadata": {
        "id": "15GJ4MyfQ8O9"
      }
    },
    {
      "cell_type": "markdown",
      "source": [
        "Get Files"
      ],
      "metadata": {
        "id": "vA7NErnMO3rx"
      }
    },
    {
      "cell_type": "code",
      "execution_count": 1,
      "metadata": {
        "colab": {
          "base_uri": "https://localhost:8080/"
        },
        "id": "-wUNrCH8L_q5",
        "outputId": "4e10a479-4e4b-4d9f-dd34-662f3d365a0b"
      },
      "outputs": [
        {
          "output_type": "stream",
          "name": "stdout",
          "text": [
            "--2022-05-09 20:44:27--  https://raw.githubusercontent.com/ravi-raj-97/big_data_pharmacy_county/main/Pharmacy-County.xlsx\n",
            "Resolving raw.githubusercontent.com (raw.githubusercontent.com)... 185.199.108.133, 185.199.109.133, 185.199.110.133, ...\n",
            "Connecting to raw.githubusercontent.com (raw.githubusercontent.com)|185.199.108.133|:443... connected.\n",
            "HTTP request sent, awaiting response... 200 OK\n",
            "Length: 2173314 (2.1M) [application/octet-stream]\n",
            "Saving to: ‘Pharmacy-County.xlsx’\n",
            "\n",
            "Pharmacy-County.xls 100%[===================>]   2.07M  --.-KB/s    in 0.03s   \n",
            "\n",
            "2022-05-09 20:44:28 (71.2 MB/s) - ‘Pharmacy-County.xlsx’ saved [2173314/2173314]\n",
            "\n",
            "--2022-05-09 20:44:28--  https://raw.githubusercontent.com/ravi-raj-97/big_data_pharmacy_county/main/Demography_USA.xlsx\n",
            "Resolving raw.githubusercontent.com (raw.githubusercontent.com)... 185.199.111.133, 185.199.108.133, 185.199.110.133, ...\n",
            "Connecting to raw.githubusercontent.com (raw.githubusercontent.com)|185.199.111.133|:443... connected.\n",
            "HTTP request sent, awaiting response... 200 OK\n",
            "Length: 2220190 (2.1M) [application/octet-stream]\n",
            "Saving to: ‘Demography_USA.xlsx’\n",
            "\n",
            "Demography_USA.xlsx 100%[===================>]   2.12M  --.-KB/s    in 0.02s   \n",
            "\n",
            "2022-05-09 20:44:28 (84.9 MB/s) - ‘Demography_USA.xlsx’ saved [2220190/2220190]\n",
            "\n"
          ]
        }
      ],
      "source": [
        "!wget -nc https://raw.githubusercontent.com/ravi-raj-97/big_data_pharmacy_county/main/Pharmacy-County.xlsx\n",
        "!wget -nc https://raw.githubusercontent.com/ravi-raj-97/big_data_pharmacy_county/main/Demography_USA.xlsx\n",
        "# !wget -nc https://raw.githubusercontent.com/ravi-raj-97/big_data_pharmacy_county/ashish/uszips.csv"
      ]
    },
    {
      "cell_type": "markdown",
      "source": [
        "Form dataframes"
      ],
      "metadata": {
        "id": "4ioAHLUkO_k5"
      }
    },
    {
      "cell_type": "code",
      "source": [
        "import pandas as pd"
      ],
      "metadata": {
        "id": "OV731OBEMee2"
      },
      "execution_count": 2,
      "outputs": []
    },
    {
      "cell_type": "code",
      "source": [
        "pharmacy_county=pd.ExcelFile(\"Pharmacy-County.xlsx\")\n",
        "demography_usa=pd.ExcelFile(\"Demography_USA.xlsx\")"
      ],
      "metadata": {
        "id": "jbV0XOpbNfyg"
      },
      "execution_count": 3,
      "outputs": []
    },
    {
      "cell_type": "code",
      "source": [
        "pharmacy_county.sheet_names[0:5]"
      ],
      "metadata": {
        "colab": {
          "base_uri": "https://localhost:8080/"
        },
        "id": "MGgZ7DCtOY7H",
        "outputId": "84d777c8-9973-43b5-bf97-92c8924d0be1"
      },
      "execution_count": 4,
      "outputs": [
        {
          "output_type": "execute_result",
          "data": {
            "text/plain": [
              "['Alaska', 'Arkansas', 'California', 'Colarado', 'Connecticut']"
            ]
          },
          "metadata": {},
          "execution_count": 4
        }
      ]
    },
    {
      "cell_type": "code",
      "source": [
        "demography_usa.sheet_names[:6]"
      ],
      "metadata": {
        "colab": {
          "base_uri": "https://localhost:8080/"
        },
        "id": "uULYj6j1OkDs",
        "outputId": "62afa244-d4c8-4f19-d56f-fa6e2665df86"
      },
      "execution_count": 5,
      "outputs": [
        {
          "output_type": "execute_result",
          "data": {
            "text/plain": [
              "['Demography USA', 'Population', 'Housing', 'Households', 'Ages', 'Genders']"
            ]
          },
          "metadata": {},
          "execution_count": 5
        }
      ]
    },
    {
      "cell_type": "code",
      "source": [
        "pharmacy_county_statewise={}\n",
        "\n",
        "for state in pharmacy_county.sheet_names:\n",
        "  pharmacy_county_statewise[state]=pd.io.excel.ExcelFile.parse(pharmacy_county, state).drop(0)"
      ],
      "metadata": {
        "id": "jRAnZac_OykH"
      },
      "execution_count": 6,
      "outputs": []
    },
    {
      "cell_type": "code",
      "source": [
        "pharmacy_county_statewise.keys()"
      ],
      "metadata": {
        "colab": {
          "base_uri": "https://localhost:8080/"
        },
        "id": "kvafLqEzQOPd",
        "outputId": "0f4b40c6-0595-4693-aefd-7b5f03d869ea"
      },
      "execution_count": 7,
      "outputs": [
        {
          "output_type": "execute_result",
          "data": {
            "text/plain": [
              "dict_keys(['Alaska', 'Arkansas', 'California', 'Colarado', 'Connecticut', 'Delaware', 'Flordia', 'Hawaii', 'Idaho', 'Kansas', 'Maine', 'Maryland', 'Massachusetts', 'Michigan', 'Missouri', 'Montana', 'Nebraska', 'Nevada', 'New Jersey', 'North Carolina', 'North Dakota', 'Oklahoma', 'Oregon', 'Rhode island', 'South Dakota', 'Tennessee', 'Texas', 'Utah', 'Vermont', 'Wisconsin', 'Other State'])"
            ]
          },
          "metadata": {},
          "execution_count": 7
        }
      ]
    },
    {
      "cell_type": "code",
      "source": [
        "demography_usa_categories={}\n",
        "\n",
        "demography_usa_categories['Climate']=pd.io.excel.ExcelFile.parse(demography_usa, 'Demography USA')\n",
        "demography_usa_categories['Population']=pd.io.excel.ExcelFile.parse(demography_usa, 'Population')\n",
        "demography_usa_categories['Diseases']=pd.io.excel.ExcelFile.parse(demography_usa, 'Diseases')"
      ],
      "metadata": {
        "id": "4tFDh4qVQoBo"
      },
      "execution_count": 8,
      "outputs": []
    },
    {
      "cell_type": "code",
      "source": [
        "demography_usa_categories.keys()"
      ],
      "metadata": {
        "id": "VsJY6osLSCMv",
        "outputId": "e1cf2c0b-e7c7-47ae-eb00-99c1d975b039",
        "colab": {
          "base_uri": "https://localhost:8080/"
        }
      },
      "execution_count": 9,
      "outputs": [
        {
          "output_type": "execute_result",
          "data": {
            "text/plain": [
              "dict_keys(['Climate', 'Population', 'Diseases'])"
            ]
          },
          "metadata": {},
          "execution_count": 9
        }
      ]
    },
    {
      "cell_type": "markdown",
      "source": [
        "\n",
        "\n",
        "---\n",
        "\n",
        "## 1. Correlation between the general climate of a county with the health of its population"
      ],
      "metadata": {
        "id": "hvbfkW0P0BGd"
      }
    },
    {
      "cell_type": "code",
      "source": [
        "import numpy as np\n",
        "from sklearn.pipeline import make_pipeline\n",
        "from sklearn.preprocessing import StandardScaler\n",
        "from sklearn.svm import SVC\n",
        "from sklearn.model_selection import train_test_split\n",
        "from sklearn.decomposition import PCA"
      ],
      "metadata": {
        "id": "zZmGF4GGkfne"
      },
      "execution_count": 10,
      "outputs": []
    },
    {
      "cell_type": "markdown",
      "source": [
        "Create joined dataframe and splitting into test and train sets"
      ],
      "metadata": {
        "id": "2VNCQvIj-X77"
      }
    },
    {
      "cell_type": "code",
      "source": [
        "print(demography_usa_categories['Diseases'].shape)\n",
        "print(demography_usa_categories['Climate'].shape)"
      ],
      "metadata": {
        "colab": {
          "base_uri": "https://localhost:8080/"
        },
        "id": "1VRHoMEcCPP-",
        "outputId": "aa9b3f13-242e-422c-9589-560c28e52660"
      },
      "execution_count": 11,
      "outputs": [
        {
          "output_type": "stream",
          "name": "stdout",
          "text": [
            "(3219, 16)\n",
            "(3219, 12)\n"
          ]
        }
      ]
    },
    {
      "cell_type": "code",
      "source": [
        "demography_disease_climate=demography_usa_categories['Diseases'].merge(demography_usa_categories['Climate'],on=['OBJECTID'],how='inner',suffixes=('', '_y'))\n",
        "demography_disease_climate.drop(demography_disease_climate.filter(regex='_y$').columns.tolist(),axis=1, inplace=True)"
      ],
      "metadata": {
        "id": "v9mu6z1L-V0a"
      },
      "execution_count": 12,
      "outputs": []
    },
    {
      "cell_type": "code",
      "source": [
        "demography_disease_climate.shape"
      ],
      "metadata": {
        "colab": {
          "base_uri": "https://localhost:8080/"
        },
        "id": "LAQnULg1_TPc",
        "outputId": "2d1997c4-6249-4b74-b81a-e6b1b1e0d492"
      },
      "execution_count": 13,
      "outputs": [
        {
          "output_type": "execute_result",
          "data": {
            "text/plain": [
              "(3219, 23)"
            ]
          },
          "metadata": {},
          "execution_count": 13
        }
      ]
    },
    {
      "cell_type": "code",
      "source": [
        "demography_disease_climate['IECC_Zone']=demography_disease_climate['IECC Climate Zone'].astype(str)+demography_disease_climate['IECC Moisture Regime']"
      ],
      "metadata": {
        "id": "X6pLhEWZIRdj"
      },
      "execution_count": 14,
      "outputs": []
    },
    {
      "cell_type": "code",
      "source": [
        "demography_disease_climate.dropna()\n",
        "demography_disease_climate.shape"
      ],
      "metadata": {
        "colab": {
          "base_uri": "https://localhost:8080/"
        },
        "id": "Co9VCQqgIrDB",
        "outputId": "d7d38e04-fe37-43c5-d2fe-9276628447fb"
      },
      "execution_count": 18,
      "outputs": [
        {
          "output_type": "execute_result",
          "data": {
            "text/plain": [
              "(3219, 24)"
            ]
          },
          "metadata": {},
          "execution_count": 18
        }
      ]
    },
    {
      "cell_type": "code",
      "source": [
        "demography_disease_climate_train,demography_disease_climate_test=train_test_split(demography_disease_climate,train_size=0.7)"
      ],
      "metadata": {
        "id": "Yo3LPe2FCYT3"
      },
      "execution_count": 19,
      "outputs": []
    },
    {
      "cell_type": "code",
      "source": [
        "print(demography_disease_climate_train.shape)\n",
        "print(demography_disease_climate_test.shape)"
      ],
      "metadata": {
        "colab": {
          "base_uri": "https://localhost:8080/"
        },
        "id": "bqasnETnC1fY",
        "outputId": "d828775c-daac-4a5c-c60d-4d6e625d6cf3"
      },
      "execution_count": 20,
      "outputs": [
        {
          "output_type": "stream",
          "name": "stdout",
          "text": [
            "(2253, 24)\n",
            "(966, 24)\n"
          ]
        }
      ]
    },
    {
      "cell_type": "markdown",
      "source": [
        "Preprocess"
      ],
      "metadata": {
        "id": "zBvHsC83F2Qh"
      }
    },
    {
      "cell_type": "code",
      "source": [
        "feature_columns=['Prevalence of obesity', 'Hypertension', 'Diabetes', 'CVD', 'HIV/AIDS', 'cvd_100k', 'hypertension_100k']\n",
        "class_columns=['IECC_Zone']#,'IECC Climate Zone', 'IECC Moisture Regime', 'BA Climate Zone', 'Temp']"
      ],
      "metadata": {
        "id": "JIpY4Qy4F6rp"
      },
      "execution_count": 21,
      "outputs": []
    },
    {
      "cell_type": "code",
      "source": [
        "x_train=demography_disease_climate_train[feature_columns].values\n",
        "x_test=demography_disease_climate_test[feature_columns].values\n",
        "\n",
        "y_train=demography_disease_climate_train[class_columns].apply(lambda col: pd.factorize(col, sort=True)[0]).values\n",
        "y_test=demography_disease_climate_test[class_columns].apply(lambda col: pd.factorize(col, sort=True)[0]).values"
      ],
      "metadata": {
        "id": "wZ5zRD7EG69X"
      },
      "execution_count": 22,
      "outputs": []
    },
    {
      "cell_type": "code",
      "source": [
        "y_train"
      ],
      "metadata": {
        "colab": {
          "base_uri": "https://localhost:8080/"
        },
        "id": "Ua8lug2bK6Gf",
        "outputId": "eb69e342-0074-44df-a15f-740c3cb97c07"
      },
      "execution_count": 23,
      "outputs": [
        {
          "output_type": "execute_result",
          "data": {
            "text/plain": [
              "array([[11],\n",
              "       [12],\n",
              "       [ 7],\n",
              "       ...,\n",
              "       [ 1],\n",
              "       [ 7],\n",
              "       [ 6]])"
            ]
          },
          "metadata": {},
          "execution_count": 23
        }
      ]
    },
    {
      "cell_type": "markdown",
      "source": [
        "Correlation Heatmap"
      ],
      "metadata": {
        "id": "EJyTND_4lU2T"
      }
    },
    {
      "cell_type": "code",
      "source": [
        "import seaborn as sns\n",
        "%matplotlib inline\n",
        "columns=['Prevalence of obesity', 'Hypertension', 'Diabetes', 'CVD', 'HIV/AIDS', 'cvd_100k', 'hypertension_100k', 'IECC_Zone']\n",
        "demography_disease_climate_corr = demography_disease_climate[columns].apply(lambda col: pd.factorize(col, sort=True)[0]).corr()\n",
        "sns.heatmap(demography_disease_climate_corr, \n",
        "        xticklabels=columns,\n",
        "        yticklabels=columns)"
      ],
      "metadata": {
        "colab": {
          "base_uri": "https://localhost:8080/",
          "height": 384
        },
        "id": "qG8KamYGkg_E",
        "outputId": "eb406ef5-ee6b-4593-e930-e22f7fa6d616"
      },
      "execution_count": 34,
      "outputs": [
        {
          "output_type": "execute_result",
          "data": {
            "text/plain": [
              "<matplotlib.axes._subplots.AxesSubplot at 0x7f2e66595e10>"
            ]
          },
          "metadata": {},
          "execution_count": 34
        },
        {
          "output_type": "display_data",
          "data": {
            "text/plain": [
              "<Figure size 432x288 with 2 Axes>"
            ],
            "image/png": "[encoded data removed]"
          },
          "metadata": {
            "needs_background": "light"
          }
        }
      ]
    },
    {
      "cell_type": "markdown",
      "source": [
        "Using SVM"
      ],
      "metadata": {
        "id": "nM-kZbqK-emg"
      }
    },
    {
      "cell_type": "code",
      "source": [
        "result_string=[]\n",
        "for k in range(1,len(feature_columns)+1):\n",
        "  svm = make_pipeline(StandardScaler(), PCA(n_components=k), SVC(gamma='auto'),)\n",
        "  _=svm.fit(x_train,y_train.ravel())\n",
        "  score=svm.score(x_test,y_test.ravel())\n",
        "  result_string.append(f\"num_features = {k} : {score}\")"
      ],
      "metadata": {
        "id": "E-2t92R3Lkx7"
      },
      "execution_count": null,
      "outputs": []
    },
    {
      "cell_type": "code",
      "source": [
        "for result in result_string:\n",
        "  print(result)"
      ],
      "metadata": {
        "colab": {
          "base_uri": "https://localhost:8080/"
        },
        "id": "guZ5qgCwMRoz",
        "outputId": "c9d7b9d3-f5c3-4a5b-8ef0-7aa0f5d4bf24"
      },
      "execution_count": null,
      "outputs": [
        {
          "output_type": "stream",
          "name": "stdout",
          "text": [
            "num_features = 1 : 0.2329192546583851\n",
            "num_features = 2 : 0.2587991718426501\n",
            "num_features = 3 : 0.3250517598343685\n",
            "num_features = 4 : 0.37267080745341613\n",
            "num_features = 5 : 0.36438923395445133\n",
            "num_features = 6 : 0.35714285714285715\n",
            "num_features = 7 : 0.34886128364389235\n"
          ]
        }
      ]
    },
    {
      "cell_type": "markdown",
      "source": [
        "Decision Trees"
      ],
      "metadata": {
        "id": "aPfEsNWEMk9l"
      }
    },
    {
      "cell_type": "code",
      "source": [
        "from sklearn.tree import DecisionTreeClassifier"
      ],
      "metadata": {
        "id": "-xKdt0A6MpN9"
      },
      "execution_count": null,
      "outputs": []
    },
    {
      "cell_type": "code",
      "source": [
        "svm = make_pipeline(StandardScaler(), DecisionTreeClassifier(max_features=4))\n",
        "_=svm.fit(x_train,y_train)\n",
        "score=svm.score(x_test,y_test)"
      ],
      "metadata": {
        "id": "iQGXGH-JPbd3"
      },
      "execution_count": null,
      "outputs": []
    },
    {
      "cell_type": "code",
      "source": [
        "print(score)"
      ],
      "metadata": {
        "colab": {
          "base_uri": "https://localhost:8080/"
        },
        "id": "s7nC5uCKPh4e",
        "outputId": "5c0d55b1-7df4-4983-82e5-915b36571377"
      },
      "execution_count": null,
      "outputs": [
        {
          "output_type": "stream",
          "name": "stdout",
          "text": [
            "0.30745341614906835\n"
          ]
        }
      ]
    },
    {
      "cell_type": "code",
      "source": [
        "max_score=0\n",
        "depth=1\n",
        "for k in range(1,100):\n",
        "  tree = make_pipeline(StandardScaler(), DecisionTreeClassifier(max_depth=k))\n",
        "  _=tree.fit(x_train,y_train)\n",
        "  score=tree.score(x_test,y_test)\n",
        "  if score>max_score:\n",
        "    max_score=score\n",
        "    depth=k\n",
        "print(f\"depth = {depth} : score = {max_score}\")"
      ],
      "metadata": {
        "colab": {
          "base_uri": "https://localhost:8080/"
        },
        "id": "hkCze4mqPyKO",
        "outputId": "56132208-2fed-490d-ddfc-28c55649a5be"
      },
      "execution_count": null,
      "outputs": [
        {
          "output_type": "stream",
          "name": "stdout",
          "text": [
            "depth = 7 : score = 0.3581780538302277\n"
          ]
        }
      ]
    },
    {
      "cell_type": "markdown",
      "source": [
        "Random Forest"
      ],
      "metadata": {
        "id": "Qa1dgoL1Q1fU"
      }
    },
    {
      "cell_type": "code",
      "source": [
        "from sklearn.ensemble import RandomForestClassifier"
      ],
      "metadata": {
        "id": "SF1yETpUoeIk"
      },
      "execution_count": null,
      "outputs": []
    },
    {
      "cell_type": "code",
      "source": [
        "max_score=0\n",
        "depth=1\n",
        "for k in range(1,len(feature_columns)+1):\n",
        "  tree = make_pipeline(StandardScaler(), RandomForestClassifier(max_depth=k))\n",
        "  _=tree.fit(x_train,y_train.ravel())\n",
        "  score=tree.score(x_test,y_test.ravel())\n",
        "  if score>max_score:\n",
        "    max_score=score\n",
        "    depth=k\n",
        "print(f\"depth = {depth} : score = {max_score}\")"
      ],
      "metadata": {
        "colab": {
          "base_uri": "https://localhost:8080/"
        },
        "id": "k3Jr1cO7Q0nj",
        "outputId": "5d1a28fd-9b2e-4254-ebb6-2a0a7f96c3b5"
      },
      "execution_count": null,
      "outputs": [
        {
          "output_type": "stream",
          "name": "stdout",
          "text": [
            "depth = 7 : score = 0.38716356107660455\n"
          ]
        }
      ]
    },
    {
      "cell_type": "markdown",
      "source": [
        "Multi Layer Perceptron"
      ],
      "metadata": {
        "id": "6OPg-E81qi5g"
      }
    },
    {
      "cell_type": "code",
      "source": [
        "from sklearn.neural_network import MLPClassifier"
      ],
      "metadata": {
        "id": "WnjZgdMCpnZW"
      },
      "execution_count": null,
      "outputs": []
    },
    {
      "cell_type": "code",
      "source": [
        "max_score=0\n",
        "num_features=1\n",
        "for k in range(1,len(feature_columns)+1):\n",
        "  nn = make_pipeline(StandardScaler(), PCA(n_components=k), MLPClassifier(random_state=1, max_iter=10000))\n",
        "  _=nn.fit(x_train,y_train.ravel())\n",
        "  score=nn.score(x_test,y_test.ravel())\n",
        "  if score>max_score:\n",
        "    max_score=score\n",
        "    num_features=k\n",
        "print(f\"num_features = {num_features} : score = {max_score}\")"
      ],
      "metadata": {
        "colab": {
          "base_uri": "https://localhost:8080/"
        },
        "id": "24yYrEh-qocK",
        "outputId": "5651ebdf-1a11-4493-ed1f-dc5c6aee2b99"
      },
      "execution_count": null,
      "outputs": [
        {
          "output_type": "stream",
          "name": "stdout",
          "text": [
            "num_features = 5 : score = 0.41200828157349895\n"
          ]
        }
      ]
    },
    {
      "cell_type": "markdown",
      "source": [
        "Conclusion:\n",
        "\n",
        "*Using various classifiers, a maximum test score of 41.2% could be achieved which indicates that there is weak or no correlation between thee health of the county and the climate*"
      ],
      "metadata": {
        "id": "Nra1ynpOuFff"
      }
    },
    {
      "cell_type": "markdown",
      "source": [
        "---\n",
        "\n",
        "## 2. Correlation between Climate of the county and number of pharmacies"
      ],
      "metadata": {
        "id": "nrqcebPBsQV3"
      }
    },
    {
      "cell_type": "code",
      "source": [
        "import numpy as np\n",
        "from sklearn.pipeline import make_pipeline\n",
        "from sklearn.preprocessing import StandardScaler\n",
        "from sklearn.svm import SVC\n",
        "from sklearn.model_selection import train_test_split\n",
        "from sklearn.decomposition import PCA"
      ],
      "metadata": {
        "id": "aQ5k7-AHsPfH"
      },
      "execution_count": 35,
      "outputs": []
    },
    {
      "cell_type": "markdown",
      "source": [
        "Create joined dataframe and splitting into test and train sets"
      ],
      "metadata": {
        "id": "JGgKb0a3bDqo"
      }
    },
    {
      "cell_type": "code",
      "source": [
        "print(pharmacy_county_statewise['Alaska'].shape)\n",
        "print(demography_usa_categories['Climate'].shape)"
      ],
      "metadata": {
        "colab": {
          "base_uri": "https://localhost:8080/"
        },
        "outputId": "23824046-12ca-4b61-e4c3-a550afc41622",
        "id": "sdoYwl4TbDqp"
      },
      "execution_count": 36,
      "outputs": [
        {
          "output_type": "stream",
          "name": "stdout",
          "text": [
            "(121, 6)\n",
            "(3219, 12)\n"
          ]
        }
      ]
    },
    {
      "cell_type": "code",
      "source": [
        "states_with_county_info = ['Alaska', 'Arkansas', 'California', 'Hawaii', 'Idaho', 'Maine', 'Missouri', 'Montana',\n",
        " 'Nebraska', 'North Carolina', 'Oregon', 'Rhode island', 'Texas']"
      ],
      "metadata": {
        "id": "R2C_D7eVRZGp"
      },
      "execution_count": 37,
      "outputs": []
    },
    {
      "cell_type": "code",
      "source": [
        "for state in states_with_county_info:\n",
        "  pharmacy_county_statewise[state]['county']=pharmacy_county_statewise[state]['county'].str.lower()"
      ],
      "metadata": {
        "id": "1oJ3U6O0RIZz"
      },
      "execution_count": 38,
      "outputs": []
    },
    {
      "cell_type": "code",
      "source": [
        "for state in states_with_county_info:\n",
        "  for ix in pharmacy_county_statewise[state].index:\n",
        "      county_name = pharmacy_county_statewise[state].loc[ix]['county']\n",
        "      if ' city and borough' in county_name:\n",
        "          county_name_new = county_name.replace(' city and borough', '')\n",
        "          pharmacy_county_statewise[state]['county'] = pharmacy_county_statewise[state]['county'].replace(county_name, county_name_new)\n",
        "      elif ' county' in county_name:\n",
        "          county_name_new = county_name.replace(' county', '')\n",
        "          pharmacy_county_statewise[state]['county'] = pharmacy_county_statewise[state]['county'].replace(county_name, county_name_new)\n",
        "      elif ' borough' in county_name:\n",
        "          county_name_new = county_name.replace(' borough','')\n",
        "          pharmacy_county_statewise[state]['county'] = pharmacy_county_statewise[state]['county'].replace(county_name, county_name_new)\n",
        "      elif ' municipality' in county_name:\n",
        "          county_name_new = county_name.replace(' municipality','')\n",
        "          pharmacy_county_statewise[state]['county'] = pharmacy_county_statewise[state]['county'].replace(county_name, county_name_new)\n",
        "      elif ' city' in county_name:\n",
        "          county_name_new = county_name.replace(' city','')\n",
        "          pharmacy_county_statewise[state]['county'] = pharmacy_county_statewise[state]['county'].replace(county_name, county_name_new)\n",
        "      elif ' census area' in county_name:\n",
        "          county_name_new = county_name.replace(' census area','')\n",
        "          pharmacy_county_statewise[state]['county'] = pharmacy_county_statewise[state]['county'].replace(county_name, county_name_new)"
      ],
      "metadata": {
        "id": "qWUReFpRRn4M"
      },
      "execution_count": 39,
      "outputs": []
    },
    {
      "cell_type": "code",
      "source": [
        "pharmacy_county_statewise['Texas'].groupby(by='county').agg('count')['State']"
      ],
      "metadata": {
        "colab": {
          "base_uri": "https://localhost:8080/"
        },
        "id": "vdyx0KogesAi",
        "outputId": "6fe1f4bd-5de5-40a5-9ef1-bd61ef477fdb"
      },
      "execution_count": 40,
      "outputs": [
        {
          "output_type": "execute_result",
          "data": {
            "text/plain": [
              "county\n",
              "anderson     7\n",
              "andrews      3\n",
              "angelina    13\n",
              "aransas      4\n",
              "archer       1\n",
              "            ..\n",
              "wood         9\n",
              "yoakum       2\n",
              "young        5\n",
              "zapata       2\n",
              "zavala       2\n",
              "Name: State, Length: 225, dtype: int64"
            ]
          },
          "metadata": {},
          "execution_count": 40
        }
      ]
    },
    {
      "cell_type": "code",
      "source": [
        "num_pharmacy_county_wise=[]\n",
        "\n",
        "for state in states_with_county_info:\n",
        "  num_pharmacy_county=pharmacy_county_statewise[state].groupby(by='county').agg('count')['State']\n",
        "  for county in num_pharmacy_county.keys():\n",
        "    num_pharmacy_county_wise.append([state,county,num_pharmacy_county[county]])\n",
        "\n",
        "num_pharmacy_county_wise=pd.DataFrame(num_pharmacy_county_wise, columns=[\"STATE_NAME\",\"County Name\",\"Num_Pharmacies\"])"
      ],
      "metadata": {
        "id": "Sh1skpvkbLWn"
      },
      "execution_count": 41,
      "outputs": []
    },
    {
      "cell_type": "code",
      "source": [
        "num_pharmacy_county_wise"
      ],
      "metadata": {
        "colab": {
          "base_uri": "https://localhost:8080/",
          "height": 424
        },
        "id": "KSyEOk5tXMi2",
        "outputId": "bea28b3b-ce21-4099-9247-fca6e0dd3d4e"
      },
      "execution_count": 42,
      "outputs": [
        {
          "output_type": "execute_result",
          "data": {
            "text/plain": [
              "    STATE_NAME           County Name  Num_Pharmacies\n",
              "0       Alaska             anchorage              51\n",
              "1       Alaska    city and of juneau               1\n",
              "2       Alaska            dillingham               1\n",
              "3       Alaska  fairbanks north star              13\n",
              "4       Alaska                haines               1\n",
              "..         ...                   ...             ...\n",
              "805      Texas                  wood               9\n",
              "806      Texas                yoakum               2\n",
              "807      Texas                 young               5\n",
              "808      Texas                zapata               2\n",
              "809      Texas                zavala               2\n",
              "\n",
              "[810 rows x 3 columns]"
            ],
            "text/html": [
              "\n",
              "  <div id=\"df-8a29476c-93a8-4791-a46b-51056d5cb650\">\n",
              "    <div class=\"colab-df-container\">\n",
              "      <div>\n",
              "<style scoped>\n",
              "    .dataframe tbody tr th:only-of-type {\n",
              "        vertical-align: middle;\n",
              "    }\n",
              "\n",
              "    .dataframe tbody tr th {\n",
              "        vertical-align: top;\n",
              "    }\n",
              "\n",
              "    .dataframe thead th {\n",
              "        text-align: right;\n",
              "    }\n",
              "</style>\n",
              "<table border=\"1\" class=\"dataframe\">\n",
              "  <thead>\n",
              "    <tr style=\"text-align: right;\">\n",
              "      <th></th>\n",
              "      <th>STATE_NAME</th>\n",
              "      <th>County Name</th>\n",
              "      <th>Num_Pharmacies</th>\n",
              "    </tr>\n",
              "  </thead>\n",
              "  <tbody>\n",
              "    <tr>\n",
              "      <th>0</th>\n",
              "      <td>Alaska</td>\n",
              "      <td>anchorage</td>\n",
              "      <td>51</td>\n",
              "    </tr>\n",
              "    <tr>\n",
              "      <th>1</th>\n",
              "      <td>Alaska</td>\n",
              "      <td>city and of juneau</td>\n",
              "      <td>1</td>\n",
              "    </tr>\n",
              "    <tr>\n",
              "      <th>2</th>\n",
              "      <td>Alaska</td>\n",
              "      <td>dillingham</td>\n",
              "      <td>1</td>\n",
              "    </tr>\n",
              "    <tr>\n",
              "      <th>3</th>\n",
              "      <td>Alaska</td>\n",
              "      <td>fairbanks north star</td>\n",
              "      <td>13</td>\n",
              "    </tr>\n",
              "    <tr>\n",
              "      <th>4</th>\n",
              "      <td>Alaska</td>\n",
              "      <td>haines</td>\n",
              "      <td>1</td>\n",
              "    </tr>\n",
              "    <tr>\n",
              "      <th>...</th>\n",
              "      <td>...</td>\n",
              "      <td>...</td>\n",
              "      <td>...</td>\n",
              "    </tr>\n",
              "    <tr>\n",
              "      <th>805</th>\n",
              "      <td>Texas</td>\n",
              "      <td>wood</td>\n",
              "      <td>9</td>\n",
              "    </tr>\n",
              "    <tr>\n",
              "      <th>806</th>\n",
              "      <td>Texas</td>\n",
              "      <td>yoakum</td>\n",
              "      <td>2</td>\n",
              "    </tr>\n",
              "    <tr>\n",
              "      <th>807</th>\n",
              "      <td>Texas</td>\n",
              "      <td>young</td>\n",
              "      <td>5</td>\n",
              "    </tr>\n",
              "    <tr>\n",
              "      <th>808</th>\n",
              "      <td>Texas</td>\n",
              "      <td>zapata</td>\n",
              "      <td>2</td>\n",
              "    </tr>\n",
              "    <tr>\n",
              "      <th>809</th>\n",
              "      <td>Texas</td>\n",
              "      <td>zavala</td>\n",
              "      <td>2</td>\n",
              "    </tr>\n",
              "  </tbody>\n",
              "</table>\n",
              "<p>810 rows × 3 columns</p>\n",
              "</div>\n",
              "      <button class=\"colab-df-convert\" onclick=\"convertToInteractive('df-8a29476c-93a8-4791-a46b-51056d5cb650')\"\n",
              "              title=\"Convert this dataframe to an interactive table.\"\n",
              "              style=\"display:none;\">\n",
              "        \n",
              "  <svg xmlns=\"http://www.w3.org/2000/svg\" height=\"24px\"viewBox=\"0 0 24 24\"\n",
              "       width=\"24px\">\n",
              "    <path d=\"M0 0h24v24H0V0z\" fill=\"none\"/>\n",
              "    <path d=\"M18.56 5.44l.94 2.06.94-2.06 2.06-.94-2.06-.94-.94-2.06-.94 2.06-2.06.94zm-11 1L8.5 8.5l.94-2.06 2.06-.94-2.06-.94L8.5 2.5l-.94 2.06-2.06.94zm10 10l.94 2.06.94-2.06 2.06-.94-2.06-.94-.94-2.06-.94 2.06-2.06.94z\"/><path d=\"M17.41 7.96l-1.37-1.37c-.4-.4-.92-.59-1.43-.59-.52 0-1.04.2-1.43.59L10.3 9.45l-7.72 7.72c-.78.78-.78 2.05 0 2.83L4 21.41c.39.39.9.59 1.41.59.51 0 1.02-.2 1.41-.59l7.78-7.78 2.81-2.81c.8-.78.8-2.07 0-2.86zM5.41 20L4 18.59l7.72-7.72 1.47 1.35L5.41 20z\"/>\n",
              "  </svg>\n",
              "      </button>\n",
              "      \n",
              "  <style>\n",
              "    .colab-df-container {\n",
              "      display:flex;\n",
              "      flex-wrap:wrap;\n",
              "      gap: 12px;\n",
              "    }\n",
              "\n",
              "    .colab-df-convert {\n",
              "      background-color: #E8F0FE;\n",
              "      border: none;\n",
              "      border-radius: 50%;\n",
              "      cursor: pointer;\n",
              "      display: none;\n",
              "      fill: #1967D2;\n",
              "      height: 32px;\n",
              "      padding: 0 0 0 0;\n",
              "      width: 32px;\n",
              "    }\n",
              "\n",
              "    .colab-df-convert:hover {\n",
              "      background-color: #E2EBFA;\n",
              "      box-shadow: 0px 1px 2px rgba(60, 64, 67, 0.3), 0px 1px 3px 1px rgba(60, 64, 67, 0.15);\n",
              "      fill: #174EA6;\n",
              "    }\n",
              "\n",
              "    [theme=dark] .colab-df-convert {\n",
              "      background-color: #3B4455;\n",
              "      fill: #D2E3FC;\n",
              "    }\n",
              "\n",
              "    [theme=dark] .colab-df-convert:hover {\n",
              "      background-color: #434B5C;\n",
              "      box-shadow: 0px 1px 3px 1px rgba(0, 0, 0, 0.15);\n",
              "      filter: drop-shadow(0px 1px 2px rgba(0, 0, 0, 0.3));\n",
              "      fill: #FFFFFF;\n",
              "    }\n",
              "  </style>\n",
              "\n",
              "      <script>\n",
              "        const buttonEl =\n",
              "          document.querySelector('#df-8a29476c-93a8-4791-a46b-51056d5cb650 button.colab-df-convert');\n",
              "        buttonEl.style.display =\n",
              "          google.colab.kernel.accessAllowed ? 'block' : 'none';\n",
              "\n",
              "        async function convertToInteractive(key) {\n",
              "          const element = document.querySelector('#df-8a29476c-93a8-4791-a46b-51056d5cb650');\n",
              "          const dataTable =\n",
              "            await google.colab.kernel.invokeFunction('convertToInteractive',\n",
              "                                                     [key], {});\n",
              "          if (!dataTable) return;\n",
              "\n",
              "          const docLinkHtml = 'Like what you see? Visit the ' +\n",
              "            '<a target=\"_blank\" href=https://colab.research.google.com/notebooks/data_table.ipynb>data table notebook</a>'\n",
              "            + ' to learn more about interactive tables.';\n",
              "          element.innerHTML = '';\n",
              "          dataTable['output_type'] = 'display_data';\n",
              "          await google.colab.output.renderOutput(dataTable, element);\n",
              "          const docLink = document.createElement('div');\n",
              "          docLink.innerHTML = docLinkHtml;\n",
              "          element.appendChild(docLink);\n",
              "        }\n",
              "      </script>\n",
              "    </div>\n",
              "  </div>\n",
              "  "
            ]
          },
          "metadata": {},
          "execution_count": 42
        }
      ]
    },
    {
      "cell_type": "code",
      "source": [
        "demography_usa_categories['Climate']['County Name']=demography_usa_categories['Climate']['County Name'].str.lower()"
      ],
      "metadata": {
        "id": "dKRAXP3ca7-p"
      },
      "execution_count": 43,
      "outputs": []
    },
    {
      "cell_type": "code",
      "source": [
        "pharmacy_count_climate=pd.merge(demography_usa_categories['Climate'],num_pharmacy_county_wise,on=['STATE_NAME','County Name'],suffixes=('', '_y'))\n",
        "# demography_usa_categories['Climate'].merge(num_pharmacy_county_wise,on=['OBJECTID'],how='inner',suffixes=('', '_y'))\n",
        "pharmacy_count_climate.drop(pharmacy_count_climate.filter(regex='_y$').columns.tolist(),axis=1, inplace=True)"
      ],
      "metadata": {
        "id": "8SlLL4CnbDqp"
      },
      "execution_count": 44,
      "outputs": []
    },
    {
      "cell_type": "code",
      "source": [
        "pharmacy_count_climate"
      ],
      "metadata": {
        "colab": {
          "base_uri": "https://localhost:8080/",
          "height": 520
        },
        "outputId": "4d5a0486-271d-4a7b-8a2c-fb6242157198",
        "id": "fsR8UQ9xbDqq"
      },
      "execution_count": 45,
      "outputs": [
        {
          "output_type": "execute_result",
          "data": {
            "text/plain": [
              "     OBJECTID                  NAME           County Name STATE_NAME State  \\\n",
              "0        2958             Anchorage             anchorage     Alaska    AK   \n",
              "1        3179                Haines                haines     Alaska    AK   \n",
              "2        3181                Juneau                juneau     Alaska    AK   \n",
              "3        3184  Fairbanks North Star  fairbanks north star     Alaska    AK   \n",
              "4        3194     Matanuska-Susitna     matanuska-susitna     Alaska    AK   \n",
              "..        ...                   ...                   ...        ...   ...   \n",
              "793      3129               Cameron               cameron      Texas    TX   \n",
              "794      3131             Matagorda             matagorda      Texas    TX   \n",
              "795      3153                Nueces                nueces      Texas    TX   \n",
              "796      3157               Aransas               aransas      Texas    TX   \n",
              "797      3161               Calhoun               calhoun      Texas    TX   \n",
              "\n",
              "     STATE_FIPS  CNTY_FIPS   FIPS  IECC Climate Zone IECC Moisture Regime  \\\n",
              "0             2         20   2020                  7                  NaN   \n",
              "1             2        100   2100                  7                  NaN   \n",
              "2             2        110   2110                  7                  NaN   \n",
              "3             2         90   2090                  8                  NaN   \n",
              "4             2        170   2170                  7                  NaN   \n",
              "..          ...        ...    ...                ...                  ...   \n",
              "793          48         61  48061                  2                    A   \n",
              "794          48        321  48321                  2                    A   \n",
              "795          48        355  48355                  2                    A   \n",
              "796          48          7  48007                  2                    A   \n",
              "797          48         57  48057                  2                    A   \n",
              "\n",
              "    BA Climate Zone          Temp  Num_Pharmacies  \n",
              "0         Very Cold   1733.300624              51  \n",
              "1         Very Cold   2367.380199               1  \n",
              "2         Very Cold   2761.022564               6  \n",
              "3         Subarctic   7435.314794              13  \n",
              "4         Very Cold  24976.167683               9  \n",
              "..              ...           ...             ...  \n",
              "793       Hot-Humid    949.719526              73  \n",
              "794       Hot-Humid   1140.332862               8  \n",
              "795       Hot-Humid    844.128000              55  \n",
              "796       Hot-Humid    263.740586               4  \n",
              "797       Hot-Humid    544.774106               4  \n",
              "\n",
              "[798 rows x 13 columns]"
            ],
            "text/html": [
              "\n",
              "  <div id=\"df-1bcb3ee9-a52e-4577-87d9-46823df75de2\">\n",
              "    <div class=\"colab-df-container\">\n",
              "      <div>\n",
              "<style scoped>\n",
              "    .dataframe tbody tr th:only-of-type {\n",
              "        vertical-align: middle;\n",
              "    }\n",
              "\n",
              "    .dataframe tbody tr th {\n",
              "        vertical-align: top;\n",
              "    }\n",
              "\n",
              "    .dataframe thead th {\n",
              "        text-align: right;\n",
              "    }\n",
              "</style>\n",
              "<table border=\"1\" class=\"dataframe\">\n",
              "  <thead>\n",
              "    <tr style=\"text-align: right;\">\n",
              "      <th></th>\n",
              "      <th>OBJECTID</th>\n",
              "      <th>NAME</th>\n",
              "      <th>County Name</th>\n",
              "      <th>STATE_NAME</th>\n",
              "      <th>State</th>\n",
              "      <th>STATE_FIPS</th>\n",
              "      <th>CNTY_FIPS</th>\n",
              "      <th>FIPS</th>\n",
              "      <th>IECC Climate Zone</th>\n",
              "      <th>IECC Moisture Regime</th>\n",
              "      <th>BA Climate Zone</th>\n",
              "      <th>Temp</th>\n",
              "      <th>Num_Pharmacies</th>\n",
              "    </tr>\n",
              "  </thead>\n",
              "  <tbody>\n",
              "    <tr>\n",
              "      <th>0</th>\n",
              "      <td>2958</td>\n",
              "      <td>Anchorage</td>\n",
              "      <td>anchorage</td>\n",
              "      <td>Alaska</td>\n",
              "      <td>AK</td>\n",
              "      <td>2</td>\n",
              "      <td>20</td>\n",
              "      <td>2020</td>\n",
              "      <td>7</td>\n",
              "      <td>NaN</td>\n",
              "      <td>Very Cold</td>\n",
              "      <td>1733.300624</td>\n",
              "      <td>51</td>\n",
              "    </tr>\n",
              "    <tr>\n",
              "      <th>1</th>\n",
              "      <td>3179</td>\n",
              "      <td>Haines</td>\n",
              "      <td>haines</td>\n",
              "      <td>Alaska</td>\n",
              "      <td>AK</td>\n",
              "      <td>2</td>\n",
              "      <td>100</td>\n",
              "      <td>2100</td>\n",
              "      <td>7</td>\n",
              "      <td>NaN</td>\n",
              "      <td>Very Cold</td>\n",
              "      <td>2367.380199</td>\n",
              "      <td>1</td>\n",
              "    </tr>\n",
              "    <tr>\n",
              "      <th>2</th>\n",
              "      <td>3181</td>\n",
              "      <td>Juneau</td>\n",
              "      <td>juneau</td>\n",
              "      <td>Alaska</td>\n",
              "      <td>AK</td>\n",
              "      <td>2</td>\n",
              "      <td>110</td>\n",
              "      <td>2110</td>\n",
              "      <td>7</td>\n",
              "      <td>NaN</td>\n",
              "      <td>Very Cold</td>\n",
              "      <td>2761.022564</td>\n",
              "      <td>6</td>\n",
              "    </tr>\n",
              "    <tr>\n",
              "      <th>3</th>\n",
              "      <td>3184</td>\n",
              "      <td>Fairbanks North Star</td>\n",
              "      <td>fairbanks north star</td>\n",
              "      <td>Alaska</td>\n",
              "      <td>AK</td>\n",
              "      <td>2</td>\n",
              "      <td>90</td>\n",
              "      <td>2090</td>\n",
              "      <td>8</td>\n",
              "      <td>NaN</td>\n",
              "      <td>Subarctic</td>\n",
              "      <td>7435.314794</td>\n",
              "      <td>13</td>\n",
              "    </tr>\n",
              "    <tr>\n",
              "      <th>4</th>\n",
              "      <td>3194</td>\n",
              "      <td>Matanuska-Susitna</td>\n",
              "      <td>matanuska-susitna</td>\n",
              "      <td>Alaska</td>\n",
              "      <td>AK</td>\n",
              "      <td>2</td>\n",
              "      <td>170</td>\n",
              "      <td>2170</td>\n",
              "      <td>7</td>\n",
              "      <td>NaN</td>\n",
              "      <td>Very Cold</td>\n",
              "      <td>24976.167683</td>\n",
              "      <td>9</td>\n",
              "    </tr>\n",
              "    <tr>\n",
              "      <th>...</th>\n",
              "      <td>...</td>\n",
              "      <td>...</td>\n",
              "      <td>...</td>\n",
              "      <td>...</td>\n",
              "      <td>...</td>\n",
              "      <td>...</td>\n",
              "      <td>...</td>\n",
              "      <td>...</td>\n",
              "      <td>...</td>\n",
              "      <td>...</td>\n",
              "      <td>...</td>\n",
              "      <td>...</td>\n",
              "      <td>...</td>\n",
              "    </tr>\n",
              "    <tr>\n",
              "      <th>793</th>\n",
              "      <td>3129</td>\n",
              "      <td>Cameron</td>\n",
              "      <td>cameron</td>\n",
              "      <td>Texas</td>\n",
              "      <td>TX</td>\n",
              "      <td>48</td>\n",
              "      <td>61</td>\n",
              "      <td>48061</td>\n",
              "      <td>2</td>\n",
              "      <td>A</td>\n",
              "      <td>Hot-Humid</td>\n",
              "      <td>949.719526</td>\n",
              "      <td>73</td>\n",
              "    </tr>\n",
              "    <tr>\n",
              "      <th>794</th>\n",
              "      <td>3131</td>\n",
              "      <td>Matagorda</td>\n",
              "      <td>matagorda</td>\n",
              "      <td>Texas</td>\n",
              "      <td>TX</td>\n",
              "      <td>48</td>\n",
              "      <td>321</td>\n",
              "      <td>48321</td>\n",
              "      <td>2</td>\n",
              "      <td>A</td>\n",
              "      <td>Hot-Humid</td>\n",
              "      <td>1140.332862</td>\n",
              "      <td>8</td>\n",
              "    </tr>\n",
              "    <tr>\n",
              "      <th>795</th>\n",
              "      <td>3153</td>\n",
              "      <td>Nueces</td>\n",
              "      <td>nueces</td>\n",
              "      <td>Texas</td>\n",
              "      <td>TX</td>\n",
              "      <td>48</td>\n",
              "      <td>355</td>\n",
              "      <td>48355</td>\n",
              "      <td>2</td>\n",
              "      <td>A</td>\n",
              "      <td>Hot-Humid</td>\n",
              "      <td>844.128000</td>\n",
              "      <td>55</td>\n",
              "    </tr>\n",
              "    <tr>\n",
              "      <th>796</th>\n",
              "      <td>3157</td>\n",
              "      <td>Aransas</td>\n",
              "      <td>aransas</td>\n",
              "      <td>Texas</td>\n",
              "      <td>TX</td>\n",
              "      <td>48</td>\n",
              "      <td>7</td>\n",
              "      <td>48007</td>\n",
              "      <td>2</td>\n",
              "      <td>A</td>\n",
              "      <td>Hot-Humid</td>\n",
              "      <td>263.740586</td>\n",
              "      <td>4</td>\n",
              "    </tr>\n",
              "    <tr>\n",
              "      <th>797</th>\n",
              "      <td>3161</td>\n",
              "      <td>Calhoun</td>\n",
              "      <td>calhoun</td>\n",
              "      <td>Texas</td>\n",
              "      <td>TX</td>\n",
              "      <td>48</td>\n",
              "      <td>57</td>\n",
              "      <td>48057</td>\n",
              "      <td>2</td>\n",
              "      <td>A</td>\n",
              "      <td>Hot-Humid</td>\n",
              "      <td>544.774106</td>\n",
              "      <td>4</td>\n",
              "    </tr>\n",
              "  </tbody>\n",
              "</table>\n",
              "<p>798 rows × 13 columns</p>\n",
              "</div>\n",
              "      <button class=\"colab-df-convert\" onclick=\"convertToInteractive('df-1bcb3ee9-a52e-4577-87d9-46823df75de2')\"\n",
              "              title=\"Convert this dataframe to an interactive table.\"\n",
              "              style=\"display:none;\">\n",
              "        \n",
              "  <svg xmlns=\"http://www.w3.org/2000/svg\" height=\"24px\"viewBox=\"0 0 24 24\"\n",
              "       width=\"24px\">\n",
              "    <path d=\"M0 0h24v24H0V0z\" fill=\"none\"/>\n",
              "    <path d=\"M18.56 5.44l.94 2.06.94-2.06 2.06-.94-2.06-.94-.94-2.06-.94 2.06-2.06.94zm-11 1L8.5 8.5l.94-2.06 2.06-.94-2.06-.94L8.5 2.5l-.94 2.06-2.06.94zm10 10l.94 2.06.94-2.06 2.06-.94-2.06-.94-.94-2.06-.94 2.06-2.06.94z\"/><path d=\"M17.41 7.96l-1.37-1.37c-.4-.4-.92-.59-1.43-.59-.52 0-1.04.2-1.43.59L10.3 9.45l-7.72 7.72c-.78.78-.78 2.05 0 2.83L4 21.41c.39.39.9.59 1.41.59.51 0 1.02-.2 1.41-.59l7.78-7.78 2.81-2.81c.8-.78.8-2.07 0-2.86zM5.41 20L4 18.59l7.72-7.72 1.47 1.35L5.41 20z\"/>\n",
              "  </svg>\n",
              "      </button>\n",
              "      \n",
              "  <style>\n",
              "    .colab-df-container {\n",
              "      display:flex;\n",
              "      flex-wrap:wrap;\n",
              "      gap: 12px;\n",
              "    }\n",
              "\n",
              "    .colab-df-convert {\n",
              "      background-color: #E8F0FE;\n",
              "      border: none;\n",
              "      border-radius: 50%;\n",
              "      cursor: pointer;\n",
              "      display: none;\n",
              "      fill: #1967D2;\n",
              "      height: 32px;\n",
              "      padding: 0 0 0 0;\n",
              "      width: 32px;\n",
              "    }\n",
              "\n",
              "    .colab-df-convert:hover {\n",
              "      background-color: #E2EBFA;\n",
              "      box-shadow: 0px 1px 2px rgba(60, 64, 67, 0.3), 0px 1px 3px 1px rgba(60, 64, 67, 0.15);\n",
              "      fill: #174EA6;\n",
              "    }\n",
              "\n",
              "    [theme=dark] .colab-df-convert {\n",
              "      background-color: #3B4455;\n",
              "      fill: #D2E3FC;\n",
              "    }\n",
              "\n",
              "    [theme=dark] .colab-df-convert:hover {\n",
              "      background-color: #434B5C;\n",
              "      box-shadow: 0px 1px 3px 1px rgba(0, 0, 0, 0.15);\n",
              "      filter: drop-shadow(0px 1px 2px rgba(0, 0, 0, 0.3));\n",
              "      fill: #FFFFFF;\n",
              "    }\n",
              "  </style>\n",
              "\n",
              "      <script>\n",
              "        const buttonEl =\n",
              "          document.querySelector('#df-1bcb3ee9-a52e-4577-87d9-46823df75de2 button.colab-df-convert');\n",
              "        buttonEl.style.display =\n",
              "          google.colab.kernel.accessAllowed ? 'block' : 'none';\n",
              "\n",
              "        async function convertToInteractive(key) {\n",
              "          const element = document.querySelector('#df-1bcb3ee9-a52e-4577-87d9-46823df75de2');\n",
              "          const dataTable =\n",
              "            await google.colab.kernel.invokeFunction('convertToInteractive',\n",
              "                                                     [key], {});\n",
              "          if (!dataTable) return;\n",
              "\n",
              "          const docLinkHtml = 'Like what you see? Visit the ' +\n",
              "            '<a target=\"_blank\" href=https://colab.research.google.com/notebooks/data_table.ipynb>data table notebook</a>'\n",
              "            + ' to learn more about interactive tables.';\n",
              "          element.innerHTML = '';\n",
              "          dataTable['output_type'] = 'display_data';\n",
              "          await google.colab.output.renderOutput(dataTable, element);\n",
              "          const docLink = document.createElement('div');\n",
              "          docLink.innerHTML = docLinkHtml;\n",
              "          element.appendChild(docLink);\n",
              "        }\n",
              "      </script>\n",
              "    </div>\n",
              "  </div>\n",
              "  "
            ]
          },
          "metadata": {},
          "execution_count": 45
        }
      ]
    },
    {
      "cell_type": "code",
      "source": [
        "pharmacy_count_climate['IECC_Zone']=pharmacy_count_climate['IECC Climate Zone'].astype(str)+pharmacy_count_climate['IECC Moisture Regime']"
      ],
      "metadata": {
        "id": "QUJ_kpZGbDqq"
      },
      "execution_count": 46,
      "outputs": []
    },
    {
      "cell_type": "code",
      "source": [
        "pharmacy_count_climate=pharmacy_count_climate.dropna()\n",
        "pharmacy_count_climate"
      ],
      "metadata": {
        "colab": {
          "base_uri": "https://localhost:8080/",
          "height": 485
        },
        "outputId": "69602595-693e-4260-976b-890bf55c70e7",
        "id": "Z7AKhtV8bDqq"
      },
      "execution_count": 47,
      "outputs": [
        {
          "output_type": "execute_result",
          "data": {
            "text/plain": [
              "     OBJECTID       NAME County Name STATE_NAME State  STATE_FIPS  CNTY_FIPS  \\\n",
              "19        703   Cleburne    cleburne   Arkansas    AR           5         23   \n",
              "20        929      Boone       boone   Arkansas    AR           5          9   \n",
              "21        936      Cross       cross   Arkansas    AR           5         37   \n",
              "22       1285     Searcy      searcy   Arkansas    AR           5        129   \n",
              "23       1307   Columbia    columbia   Arkansas    AR           5         27   \n",
              "..        ...        ...         ...        ...   ...         ...        ...   \n",
              "793      3129    Cameron     cameron      Texas    TX          48         61   \n",
              "794      3131  Matagorda   matagorda      Texas    TX          48        321   \n",
              "795      3153     Nueces      nueces      Texas    TX          48        355   \n",
              "796      3157    Aransas     aransas      Texas    TX          48          7   \n",
              "797      3161    Calhoun     calhoun      Texas    TX          48         57   \n",
              "\n",
              "      FIPS  IECC Climate Zone IECC Moisture Regime BA Climate Zone  \\\n",
              "19    5023                  3                    A     Mixed-Humid   \n",
              "20    5009                  4                    A     Mixed-Humid   \n",
              "21    5037                  3                    A     Mixed-Humid   \n",
              "22    5129                  4                    A     Mixed-Humid   \n",
              "23    5027                  3                    A       Hot-Humid   \n",
              "..     ...                ...                  ...             ...   \n",
              "793  48061                  2                    A       Hot-Humid   \n",
              "794  48321                  2                    A       Hot-Humid   \n",
              "795  48355                  2                    A       Hot-Humid   \n",
              "796  48007                  2                    A       Hot-Humid   \n",
              "797  48057                  2                    A       Hot-Humid   \n",
              "\n",
              "            Temp  Num_Pharmacies IECC_Zone  \n",
              "19    591.920155               7        3A  \n",
              "20    601.756172               7        4A  \n",
              "21    622.348691               5        3A  \n",
              "22    668.532626               2        4A  \n",
              "23    766.630310               5        3A  \n",
              "..           ...             ...       ...  \n",
              "793   949.719526              73        2A  \n",
              "794  1140.332862               8        2A  \n",
              "795   844.128000              55        2A  \n",
              "796   263.740586               4        2A  \n",
              "797   544.774106               4        2A  \n",
              "\n",
              "[778 rows x 14 columns]"
            ],
            "text/html": [
              "\n",
              "  <div id=\"df-4853587a-8102-43ec-87cc-b9ffe35de284\">\n",
              "    <div class=\"colab-df-container\">\n",
              "      <div>\n",
              "<style scoped>\n",
              "    .dataframe tbody tr th:only-of-type {\n",
              "        vertical-align: middle;\n",
              "    }\n",
              "\n",
              "    .dataframe tbody tr th {\n",
              "        vertical-align: top;\n",
              "    }\n",
              "\n",
              "    .dataframe thead th {\n",
              "        text-align: right;\n",
              "    }\n",
              "</style>\n",
              "<table border=\"1\" class=\"dataframe\">\n",
              "  <thead>\n",
              "    <tr style=\"text-align: right;\">\n",
              "      <th></th>\n",
              "      <th>OBJECTID</th>\n",
              "      <th>NAME</th>\n",
              "      <th>County Name</th>\n",
              "      <th>STATE_NAME</th>\n",
              "      <th>State</th>\n",
              "      <th>STATE_FIPS</th>\n",
              "      <th>CNTY_FIPS</th>\n",
              "      <th>FIPS</th>\n",
              "      <th>IECC Climate Zone</th>\n",
              "      <th>IECC Moisture Regime</th>\n",
              "      <th>BA Climate Zone</th>\n",
              "      <th>Temp</th>\n",
              "      <th>Num_Pharmacies</th>\n",
              "      <th>IECC_Zone</th>\n",
              "    </tr>\n",
              "  </thead>\n",
              "  <tbody>\n",
              "    <tr>\n",
              "      <th>19</th>\n",
              "      <td>703</td>\n",
              "      <td>Cleburne</td>\n",
              "      <td>cleburne</td>\n",
              "      <td>Arkansas</td>\n",
              "      <td>AR</td>\n",
              "      <td>5</td>\n",
              "      <td>23</td>\n",
              "      <td>5023</td>\n",
              "      <td>3</td>\n",
              "      <td>A</td>\n",
              "      <td>Mixed-Humid</td>\n",
              "      <td>591.920155</td>\n",
              "      <td>7</td>\n",
              "      <td>3A</td>\n",
              "    </tr>\n",
              "    <tr>\n",
              "      <th>20</th>\n",
              "      <td>929</td>\n",
              "      <td>Boone</td>\n",
              "      <td>boone</td>\n",
              "      <td>Arkansas</td>\n",
              "      <td>AR</td>\n",
              "      <td>5</td>\n",
              "      <td>9</td>\n",
              "      <td>5009</td>\n",
              "      <td>4</td>\n",
              "      <td>A</td>\n",
              "      <td>Mixed-Humid</td>\n",
              "      <td>601.756172</td>\n",
              "      <td>7</td>\n",
              "      <td>4A</td>\n",
              "    </tr>\n",
              "    <tr>\n",
              "      <th>21</th>\n",
              "      <td>936</td>\n",
              "      <td>Cross</td>\n",
              "      <td>cross</td>\n",
              "      <td>Arkansas</td>\n",
              "      <td>AR</td>\n",
              "      <td>5</td>\n",
              "      <td>37</td>\n",
              "      <td>5037</td>\n",
              "      <td>3</td>\n",
              "      <td>A</td>\n",
              "      <td>Mixed-Humid</td>\n",
              "      <td>622.348691</td>\n",
              "      <td>5</td>\n",
              "      <td>3A</td>\n",
              "    </tr>\n",
              "    <tr>\n",
              "      <th>22</th>\n",
              "      <td>1285</td>\n",
              "      <td>Searcy</td>\n",
              "      <td>searcy</td>\n",
              "      <td>Arkansas</td>\n",
              "      <td>AR</td>\n",
              "      <td>5</td>\n",
              "      <td>129</td>\n",
              "      <td>5129</td>\n",
              "      <td>4</td>\n",
              "      <td>A</td>\n",
              "      <td>Mixed-Humid</td>\n",
              "      <td>668.532626</td>\n",
              "      <td>2</td>\n",
              "      <td>4A</td>\n",
              "    </tr>\n",
              "    <tr>\n",
              "      <th>23</th>\n",
              "      <td>1307</td>\n",
              "      <td>Columbia</td>\n",
              "      <td>columbia</td>\n",
              "      <td>Arkansas</td>\n",
              "      <td>AR</td>\n",
              "      <td>5</td>\n",
              "      <td>27</td>\n",
              "      <td>5027</td>\n",
              "      <td>3</td>\n",
              "      <td>A</td>\n",
              "      <td>Hot-Humid</td>\n",
              "      <td>766.630310</td>\n",
              "      <td>5</td>\n",
              "      <td>3A</td>\n",
              "    </tr>\n",
              "    <tr>\n",
              "      <th>...</th>\n",
              "      <td>...</td>\n",
              "      <td>...</td>\n",
              "      <td>...</td>\n",
              "      <td>...</td>\n",
              "      <td>...</td>\n",
              "      <td>...</td>\n",
              "      <td>...</td>\n",
              "      <td>...</td>\n",
              "      <td>...</td>\n",
              "      <td>...</td>\n",
              "      <td>...</td>\n",
              "      <td>...</td>\n",
              "      <td>...</td>\n",
              "      <td>...</td>\n",
              "    </tr>\n",
              "    <tr>\n",
              "      <th>793</th>\n",
              "      <td>3129</td>\n",
              "      <td>Cameron</td>\n",
              "      <td>cameron</td>\n",
              "      <td>Texas</td>\n",
              "      <td>TX</td>\n",
              "      <td>48</td>\n",
              "      <td>61</td>\n",
              "      <td>48061</td>\n",
              "      <td>2</td>\n",
              "      <td>A</td>\n",
              "      <td>Hot-Humid</td>\n",
              "      <td>949.719526</td>\n",
              "      <td>73</td>\n",
              "      <td>2A</td>\n",
              "    </tr>\n",
              "    <tr>\n",
              "      <th>794</th>\n",
              "      <td>3131</td>\n",
              "      <td>Matagorda</td>\n",
              "      <td>matagorda</td>\n",
              "      <td>Texas</td>\n",
              "      <td>TX</td>\n",
              "      <td>48</td>\n",
              "      <td>321</td>\n",
              "      <td>48321</td>\n",
              "      <td>2</td>\n",
              "      <td>A</td>\n",
              "      <td>Hot-Humid</td>\n",
              "      <td>1140.332862</td>\n",
              "      <td>8</td>\n",
              "      <td>2A</td>\n",
              "    </tr>\n",
              "    <tr>\n",
              "      <th>795</th>\n",
              "      <td>3153</td>\n",
              "      <td>Nueces</td>\n",
              "      <td>nueces</td>\n",
              "      <td>Texas</td>\n",
              "      <td>TX</td>\n",
              "      <td>48</td>\n",
              "      <td>355</td>\n",
              "      <td>48355</td>\n",
              "      <td>2</td>\n",
              "      <td>A</td>\n",
              "      <td>Hot-Humid</td>\n",
              "      <td>844.128000</td>\n",
              "      <td>55</td>\n",
              "      <td>2A</td>\n",
              "    </tr>\n",
              "    <tr>\n",
              "      <th>796</th>\n",
              "      <td>3157</td>\n",
              "      <td>Aransas</td>\n",
              "      <td>aransas</td>\n",
              "      <td>Texas</td>\n",
              "      <td>TX</td>\n",
              "      <td>48</td>\n",
              "      <td>7</td>\n",
              "      <td>48007</td>\n",
              "      <td>2</td>\n",
              "      <td>A</td>\n",
              "      <td>Hot-Humid</td>\n",
              "      <td>263.740586</td>\n",
              "      <td>4</td>\n",
              "      <td>2A</td>\n",
              "    </tr>\n",
              "    <tr>\n",
              "      <th>797</th>\n",
              "      <td>3161</td>\n",
              "      <td>Calhoun</td>\n",
              "      <td>calhoun</td>\n",
              "      <td>Texas</td>\n",
              "      <td>TX</td>\n",
              "      <td>48</td>\n",
              "      <td>57</td>\n",
              "      <td>48057</td>\n",
              "      <td>2</td>\n",
              "      <td>A</td>\n",
              "      <td>Hot-Humid</td>\n",
              "      <td>544.774106</td>\n",
              "      <td>4</td>\n",
              "      <td>2A</td>\n",
              "    </tr>\n",
              "  </tbody>\n",
              "</table>\n",
              "<p>778 rows × 14 columns</p>\n",
              "</div>\n",
              "      <button class=\"colab-df-convert\" onclick=\"convertToInteractive('df-4853587a-8102-43ec-87cc-b9ffe35de284')\"\n",
              "              title=\"Convert this dataframe to an interactive table.\"\n",
              "              style=\"display:none;\">\n",
              "        \n",
              "  <svg xmlns=\"http://www.w3.org/2000/svg\" height=\"24px\"viewBox=\"0 0 24 24\"\n",
              "       width=\"24px\">\n",
              "    <path d=\"M0 0h24v24H0V0z\" fill=\"none\"/>\n",
              "    <path d=\"M18.56 5.44l.94 2.06.94-2.06 2.06-.94-2.06-.94-.94-2.06-.94 2.06-2.06.94zm-11 1L8.5 8.5l.94-2.06 2.06-.94-2.06-.94L8.5 2.5l-.94 2.06-2.06.94zm10 10l.94 2.06.94-2.06 2.06-.94-2.06-.94-.94-2.06-.94 2.06-2.06.94z\"/><path d=\"M17.41 7.96l-1.37-1.37c-.4-.4-.92-.59-1.43-.59-.52 0-1.04.2-1.43.59L10.3 9.45l-7.72 7.72c-.78.78-.78 2.05 0 2.83L4 21.41c.39.39.9.59 1.41.59.51 0 1.02-.2 1.41-.59l7.78-7.78 2.81-2.81c.8-.78.8-2.07 0-2.86zM5.41 20L4 18.59l7.72-7.72 1.47 1.35L5.41 20z\"/>\n",
              "  </svg>\n",
              "      </button>\n",
              "      \n",
              "  <style>\n",
              "    .colab-df-container {\n",
              "      display:flex;\n",
              "      flex-wrap:wrap;\n",
              "      gap: 12px;\n",
              "    }\n",
              "\n",
              "    .colab-df-convert {\n",
              "      background-color: #E8F0FE;\n",
              "      border: none;\n",
              "      border-radius: 50%;\n",
              "      cursor: pointer;\n",
              "      display: none;\n",
              "      fill: #1967D2;\n",
              "      height: 32px;\n",
              "      padding: 0 0 0 0;\n",
              "      width: 32px;\n",
              "    }\n",
              "\n",
              "    .colab-df-convert:hover {\n",
              "      background-color: #E2EBFA;\n",
              "      box-shadow: 0px 1px 2px rgba(60, 64, 67, 0.3), 0px 1px 3px 1px rgba(60, 64, 67, 0.15);\n",
              "      fill: #174EA6;\n",
              "    }\n",
              "\n",
              "    [theme=dark] .colab-df-convert {\n",
              "      background-color: #3B4455;\n",
              "      fill: #D2E3FC;\n",
              "    }\n",
              "\n",
              "    [theme=dark] .colab-df-convert:hover {\n",
              "      background-color: #434B5C;\n",
              "      box-shadow: 0px 1px 3px 1px rgba(0, 0, 0, 0.15);\n",
              "      filter: drop-shadow(0px 1px 2px rgba(0, 0, 0, 0.3));\n",
              "      fill: #FFFFFF;\n",
              "    }\n",
              "  </style>\n",
              "\n",
              "      <script>\n",
              "        const buttonEl =\n",
              "          document.querySelector('#df-4853587a-8102-43ec-87cc-b9ffe35de284 button.colab-df-convert');\n",
              "        buttonEl.style.display =\n",
              "          google.colab.kernel.accessAllowed ? 'block' : 'none';\n",
              "\n",
              "        async function convertToInteractive(key) {\n",
              "          const element = document.querySelector('#df-4853587a-8102-43ec-87cc-b9ffe35de284');\n",
              "          const dataTable =\n",
              "            await google.colab.kernel.invokeFunction('convertToInteractive',\n",
              "                                                     [key], {});\n",
              "          if (!dataTable) return;\n",
              "\n",
              "          const docLinkHtml = 'Like what you see? Visit the ' +\n",
              "            '<a target=\"_blank\" href=https://colab.research.google.com/notebooks/data_table.ipynb>data table notebook</a>'\n",
              "            + ' to learn more about interactive tables.';\n",
              "          element.innerHTML = '';\n",
              "          dataTable['output_type'] = 'display_data';\n",
              "          await google.colab.output.renderOutput(dataTable, element);\n",
              "          const docLink = document.createElement('div');\n",
              "          docLink.innerHTML = docLinkHtml;\n",
              "          element.appendChild(docLink);\n",
              "        }\n",
              "      </script>\n",
              "    </div>\n",
              "  </div>\n",
              "  "
            ]
          },
          "metadata": {},
          "execution_count": 47
        }
      ]
    },
    {
      "cell_type": "code",
      "source": [
        "pharmacy_count_climate_train,pharmacy_count_climate_test=train_test_split(pharmacy_count_climate,train_size=0.7)"
      ],
      "metadata": {
        "id": "UheudJVSbDqq"
      },
      "execution_count": 48,
      "outputs": []
    },
    {
      "cell_type": "code",
      "source": [
        "print(pharmacy_count_climate_train.shape)\n",
        "print(pharmacy_count_climate_test.shape)"
      ],
      "metadata": {
        "colab": {
          "base_uri": "https://localhost:8080/"
        },
        "outputId": "35e3aec5-14c3-4fa6-a33d-d7b2c1785316",
        "id": "wt8oNK1bbDqr"
      },
      "execution_count": 49,
      "outputs": [
        {
          "output_type": "stream",
          "name": "stdout",
          "text": [
            "(544, 14)\n",
            "(234, 14)\n"
          ]
        }
      ]
    },
    {
      "cell_type": "markdown",
      "source": [
        "Preprocess"
      ],
      "metadata": {
        "id": "euyRZJAGdUdv"
      }
    },
    {
      "cell_type": "code",
      "source": [
        "feature_columns=['Num_Pharmacies']\n",
        "class_columns=['IECC_Zone']#,'IECC Climate Zone', 'IECC Moisture Regime', 'BA Climate Zone', 'Temp']"
      ],
      "metadata": {
        "id": "9HUV3XfzdUd7"
      },
      "execution_count": 50,
      "outputs": []
    },
    {
      "cell_type": "code",
      "source": [
        "x_train=pharmacy_count_climate_train[feature_columns].values\n",
        "x_test=pharmacy_count_climate_test[feature_columns].values\n",
        "\n",
        "y_train=pharmacy_count_climate_train[class_columns].apply(lambda col: pd.factorize(col, sort=True)[0]).values\n",
        "y_test=pharmacy_count_climate_test[class_columns].apply(lambda col: pd.factorize(col, sort=True)[0]).values"
      ],
      "metadata": {
        "id": "8s6Eyr2OdUd8"
      },
      "execution_count": 51,
      "outputs": []
    },
    {
      "cell_type": "markdown",
      "source": [
        "Correlation Heatmap"
      ],
      "metadata": {
        "id": "RNj4CmkMm7mt"
      }
    },
    {
      "cell_type": "code",
      "source": [
        "import seaborn as sns\n",
        "%matplotlib inline\n",
        "columns=['Num_Pharmacies', 'IECC_Zone']\n",
        "pharmacy_count_climate_corr = pharmacy_count_climate[columns].apply(lambda col: pd.factorize(col, sort=True)[0]).corr()\n",
        "sns.heatmap(pharmacy_count_climate_corr, \n",
        "        xticklabels=columns,\n",
        "        yticklabels=columns)"
      ],
      "metadata": {
        "colab": {
          "base_uri": "https://localhost:8080/",
          "height": 288
        },
        "outputId": "94f5db08-2859-4043-e36f-3a5cf033895c",
        "id": "1z2hRPGnm7mt"
      },
      "execution_count": 52,
      "outputs": [
        {
          "output_type": "execute_result",
          "data": {
            "text/plain": [
              "<matplotlib.axes._subplots.AxesSubplot at 0x7f2e66468750>"
            ]
          },
          "metadata": {},
          "execution_count": 52
        },
        {
          "output_type": "display_data",
          "data": {
            "text/plain": [
              "<Figure size 432x288 with 2 Axes>"
            ],
            "image/png": "[encoded data removed]"
          },
          "metadata": {
            "needs_background": "light"
          }
        }
      ]
    },
    {
      "cell_type": "markdown",
      "source": [
        "Decision Trees"
      ],
      "metadata": {
        "id": "xZ_JYGPQgWzV"
      }
    },
    {
      "cell_type": "code",
      "source": [
        "from sklearn.tree import DecisionTreeClassifier"
      ],
      "metadata": {
        "id": "lHxsEFccgWzZ"
      },
      "execution_count": 141,
      "outputs": []
    },
    {
      "cell_type": "code",
      "source": [
        "svm = make_pipeline(StandardScaler(), DecisionTreeClassifier())\n",
        "_=svm.fit(x_train,y_train)\n",
        "score=svm.score(x_test,y_test)"
      ],
      "metadata": {
        "id": "b4WELLkLgWzZ"
      },
      "execution_count": 142,
      "outputs": []
    },
    {
      "cell_type": "code",
      "source": [
        "print(score)"
      ],
      "metadata": {
        "colab": {
          "base_uri": "https://localhost:8080/"
        },
        "outputId": "28a29492-94af-4661-d0f1-bc09e4b1fee3",
        "id": "Qv-npKVSgWzZ"
      },
      "execution_count": 143,
      "outputs": [
        {
          "output_type": "stream",
          "name": "stdout",
          "text": [
            "0.1794871794871795\n"
          ]
        }
      ]
    },
    {
      "cell_type": "code",
      "source": [
        "max_score=0\n",
        "depth=1\n",
        "for k in range(1,100):\n",
        "  tree = make_pipeline(StandardScaler(), DecisionTreeClassifier(max_depth=k))\n",
        "  _=tree.fit(x_train,y_train)\n",
        "  score=tree.score(x_test,y_test)\n",
        "  if score>max_score:\n",
        "    max_score=score\n",
        "    depth=k\n",
        "print(f\"depth = {depth} : score = {max_score}\")"
      ],
      "metadata": {
        "colab": {
          "base_uri": "https://localhost:8080/"
        },
        "outputId": "3818a02b-9e0f-45bc-8c17-579b56d94cf5",
        "id": "wu2kGwvXgWza"
      },
      "execution_count": 144,
      "outputs": [
        {
          "output_type": "stream",
          "name": "stdout",
          "text": [
            "depth = 2 : score = 0.23504273504273504\n"
          ]
        }
      ]
    },
    {
      "cell_type": "markdown",
      "source": [
        "Random Forest"
      ],
      "metadata": {
        "id": "oqjOP-QDgWza"
      }
    },
    {
      "cell_type": "code",
      "source": [
        "from sklearn.ensemble import RandomForestClassifier"
      ],
      "metadata": {
        "id": "K5RdQfZKgWza"
      },
      "execution_count": 145,
      "outputs": []
    },
    {
      "cell_type": "code",
      "source": [
        "max_score=0\n",
        "depth=1\n",
        "for k in range(1,len(feature_columns)+1):\n",
        "  tree = make_pipeline(StandardScaler(), RandomForestClassifier(max_depth=k))\n",
        "  _=tree.fit(x_train,y_train.ravel())\n",
        "  score=tree.score(x_test,y_test.ravel())\n",
        "  if score>max_score:\n",
        "    max_score=score\n",
        "    depth=k\n",
        "print(f\"depth = {depth} : score = {max_score}\")"
      ],
      "metadata": {
        "colab": {
          "base_uri": "https://localhost:8080/"
        },
        "outputId": "fd88fa85-748c-4c99-fcb0-edc51a14662a",
        "id": "yzESYbCXgWza"
      },
      "execution_count": 146,
      "outputs": [
        {
          "output_type": "stream",
          "name": "stdout",
          "text": [
            "depth = 1 : score = 0.2264957264957265\n"
          ]
        }
      ]
    },
    {
      "cell_type": "markdown",
      "source": [
        "Logistic Regression"
      ],
      "metadata": {
        "id": "4kmMIGQShk8i"
      }
    },
    {
      "cell_type": "code",
      "source": [
        "from sklearn.linear_model import LogisticRegression"
      ],
      "metadata": {
        "id": "Wu8C87qCdUd8"
      },
      "execution_count": 147,
      "outputs": []
    },
    {
      "cell_type": "code",
      "source": [
        "clf = LogisticRegression(random_state=0).fit(x_train, y_train.ravel())\n",
        "clf.score(x_test,y_test.ravel())"
      ],
      "metadata": {
        "colab": {
          "base_uri": "https://localhost:8080/"
        },
        "id": "_726KUyahDBA",
        "outputId": "39069ef3-ced6-4097-fc56-cc588c6dc8c8"
      },
      "execution_count": 148,
      "outputs": [
        {
          "output_type": "stream",
          "name": "stderr",
          "text": [
            "/usr/local/lib/python3.7/dist-packages/sklearn/linear_model/_logistic.py:818: ConvergenceWarning: lbfgs failed to converge (status=1):\n",
            "STOP: TOTAL NO. of ITERATIONS REACHED LIMIT.\n",
            "\n",
            "Increase the number of iterations (max_iter) or scale the data as shown in:\n",
            "    https://scikit-learn.org/stable/modules/preprocessing.html\n",
            "Please also refer to the documentation for alternative solver options:\n",
            "    https://scikit-learn.org/stable/modules/linear_model.html#logistic-regression\n",
            "  extra_warning_msg=_LOGISTIC_SOLVER_CONVERGENCE_MSG,\n"
          ]
        },
        {
          "output_type": "execute_result",
          "data": {
            "text/plain": [
              "0.2222222222222222"
            ]
          },
          "metadata": {},
          "execution_count": 148
        }
      ]
    },
    {
      "cell_type": "markdown",
      "source": [
        "```Logistic regression classifier fails to converge```"
      ],
      "metadata": {
        "id": "bgf0bveVhnoa"
      }
    },
    {
      "cell_type": "markdown",
      "source": [
        "Conclusion:\n",
        "\n",
        "*Using various classifiers, a maximum test score of 23.5% could be achieved which indicates that there is weak or no correlation between thee number of pharmacies in a county and its climate*"
      ],
      "metadata": {
        "id": "Nr-eeIyRh2QM"
      }
    }
  ]
}