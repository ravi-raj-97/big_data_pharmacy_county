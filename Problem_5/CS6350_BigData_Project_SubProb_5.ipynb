{
  "cells": [
    {
      "cell_type": "markdown",
      "metadata": {
        "colab_type": "text",
        "id": "view-in-github"
      },
      "source": [
        "<a href=\"https://colab.research.google.com/github/ravi-raj-97/big_data_pharmacy_county/blob/ashish/CS6350_BigData_Project_SubProb_5.ipynb\" target=\"_parent\"><img src=\"https://colab.research.google.com/assets/colab-badge.svg\" alt=\"Open In Colab\"/></a>"
      ]
    },
    {
      "cell_type": "markdown",
      "metadata": {
        "id": "15GJ4MyfQ8O9"
      },
      "source": [
        "## ***Sub-problem 5:*** Correlation between the general climate of a county with the health of its population and availability of pharmacies."
      ]
    },
    {
      "cell_type": "markdown",
      "metadata": {
        "id": "vA7NErnMO3rx"
      },
      "source": [
        "Get Files"
      ]
    },
    {
      "cell_type": "code",
      "execution_count": 2,
      "metadata": {
        "colab": {
          "base_uri": "https://localhost:8080/"
        },
        "id": "-wUNrCH8L_q5",
        "outputId": "d76b6878-72cb-410e-eb11-90ef50c56561"
      },
      "outputs": [
        {
          "name": "stdout",
          "output_type": "stream",
          "text": [
            "--2022-05-09 09:52:30--  https://raw.githubusercontent.com/ravi-raj-97/big_data_pharmacy_county/main/Pharmacy-County.xlsx\n",
            "Resolving raw.githubusercontent.com (raw.githubusercontent.com)... 185.199.109.133, 185.199.110.133, 185.199.108.133, ...\n",
            "Connecting to raw.githubusercontent.com (raw.githubusercontent.com)|185.199.109.133|:443... connected.\n",
            "HTTP request sent, awaiting response... 200 OK\n",
            "Length: 2173314 (2.1M) [application/octet-stream]\n",
            "Saving to: ‘Pharmacy-County.xlsx’\n",
            "\n",
            "Pharmacy-County.xls 100%[===================>]   2.07M  --.-KB/s    in 0.04s   \n",
            "\n",
            "2022-05-09 09:52:31 (54.2 MB/s) - ‘Pharmacy-County.xlsx’ saved [2173314/2173314]\n",
            "\n",
            "--2022-05-09 09:52:31--  https://raw.githubusercontent.com/ravi-raj-97/big_data_pharmacy_county/main/Demography_USA.xlsx\n",
            "Resolving raw.githubusercontent.com (raw.githubusercontent.com)... 185.199.109.133, 185.199.110.133, 185.199.108.133, ...\n",
            "Connecting to raw.githubusercontent.com (raw.githubusercontent.com)|185.199.109.133|:443... connected.\n",
            "HTTP request sent, awaiting response... 200 OK\n",
            "Length: 2220190 (2.1M) [application/octet-stream]\n",
            "Saving to: ‘Demography_USA.xlsx’\n",
            "\n",
            "Demography_USA.xlsx 100%[===================>]   2.12M  --.-KB/s    in 0.04s   \n",
            "\n",
            "2022-05-09 09:52:31 (59.7 MB/s) - ‘Demography_USA.xlsx’ saved [2220190/2220190]\n",
            "\n"
          ]
        }
      ],
      "source": [
        "!wget -nc https://raw.githubusercontent.com/ravi-raj-97/big_data_pharmacy_county/main/Pharmacy-County.xlsx\n",
        "!wget -nc https://raw.githubusercontent.com/ravi-raj-97/big_data_pharmacy_county/main/Demography_USA.xlsx\n",
        "# !wget -nc https://raw.githubusercontent.com/ravi-raj-97/big_data_pharmacy_county/ashish/uszips.csv"
      ]
    },
    {
      "cell_type": "markdown",
      "metadata": {
        "id": "4ioAHLUkO_k5"
      },
      "source": [
        "Form dataframes"
      ]
    },
    {
      "cell_type": "code",
      "execution_count": 25,
      "metadata": {
        "id": "OV731OBEMee2"
      },
      "outputs": [],
      "source": [
        "import pandas as pd"
      ]
    },
    {
      "cell_type": "code",
      "execution_count": 26,
      "metadata": {
        "id": "jbV0XOpbNfyg"
      },
      "outputs": [],
      "source": [
        "pharmacy_county=pd.ExcelFile(\"Pharmacy-County.xlsx\")\n",
        "demography_usa=pd.ExcelFile(\"Demography_USA.xlsx\")"
      ]
    },
    {
      "cell_type": "code",
      "execution_count": 27,
      "metadata": {
        "colab": {
          "base_uri": "https://localhost:8080/"
        },
        "id": "MGgZ7DCtOY7H",
        "outputId": "f551112c-7635-4dd5-a711-3df53715432e"
      },
      "outputs": [
        {
          "data": {
            "text/plain": [
              "['Alaska', 'Arkansas', 'California', 'Colarado', 'Connecticut']"
            ]
          },
          "execution_count": 27,
          "metadata": {},
          "output_type": "execute_result"
        }
      ],
      "source": [
        "pharmacy_county.sheet_names[0:5]"
      ]
    },
    {
      "cell_type": "code",
      "execution_count": 28,
      "metadata": {
        "colab": {
          "base_uri": "https://localhost:8080/"
        },
        "id": "uULYj6j1OkDs",
        "outputId": "a4305fca-41c4-4390-932a-4060fda285ab"
      },
      "outputs": [
        {
          "data": {
            "text/plain": [
              "['Demography USA', 'Population', 'Housing', 'Households', 'Ages', 'Genders']"
            ]
          },
          "execution_count": 28,
          "metadata": {},
          "output_type": "execute_result"
        }
      ],
      "source": [
        "demography_usa.sheet_names[:6]"
      ]
    },
    {
      "cell_type": "code",
      "execution_count": 29,
      "metadata": {
        "id": "jRAnZac_OykH"
      },
      "outputs": [],
      "source": [
        "pharmacy_county_statewise={}\n",
        "\n",
        "for state in pharmacy_county.sheet_names:\n",
        "  pharmacy_county_statewise[state]=pd.io.excel.ExcelFile.parse(pharmacy_county, state).drop(0)"
      ]
    },
    {
      "cell_type": "code",
      "execution_count": 30,
      "metadata": {
        "colab": {
          "base_uri": "https://localhost:8080/"
        },
        "id": "kvafLqEzQOPd",
        "outputId": "64e72664-7ca1-4b62-db24-08580030cb3f"
      },
      "outputs": [
        {
          "data": {
            "text/plain": [
              "dict_keys(['Alaska', 'Arkansas', 'California', 'Colarado', 'Connecticut', 'Delaware', 'Flordia', 'Hawaii', 'Idaho', 'Kansas', 'Maine', 'Maryland', 'Massachusetts', 'Michigan', 'Missouri', 'Montana', 'Nebraska', 'Nevada', 'New Jersey', 'North Carolina', 'North Dakota', 'Oklahoma', 'Oregon', 'Rhode island', 'South Dakota', 'Tennessee', 'Texas', 'Utah', 'Vermont', 'Wisconsin', 'Other State'])"
            ]
          },
          "execution_count": 30,
          "metadata": {},
          "output_type": "execute_result"
        }
      ],
      "source": [
        "pharmacy_county_statewise.keys()"
      ]
    },
    {
      "cell_type": "code",
      "execution_count": 31,
      "metadata": {
        "id": "4tFDh4qVQoBo"
      },
      "outputs": [],
      "source": [
        "demography_usa_categories={}\n",
        "\n",
        "demography_usa_categories['Climate']=pd.io.excel.ExcelFile.parse(demography_usa, 'Demography USA')\n",
        "demography_usa_categories['Population']=pd.io.excel.ExcelFile.parse(demography_usa, 'Population')\n",
        "demography_usa_categories['Diseases']=pd.io.excel.ExcelFile.parse(demography_usa, 'Diseases')"
      ]
    },
    {
      "cell_type": "code",
      "execution_count": 32,
      "metadata": {
        "colab": {
          "base_uri": "https://localhost:8080/"
        },
        "id": "VsJY6osLSCMv",
        "outputId": "64906d06-61b0-46f0-cf96-cac2de27715e"
      },
      "outputs": [
        {
          "data": {
            "text/plain": [
              "dict_keys(['Climate', 'Population', 'Diseases'])"
            ]
          },
          "execution_count": 32,
          "metadata": {},
          "output_type": "execute_result"
        }
      ],
      "source": [
        "demography_usa_categories.keys()"
      ]
    },
    {
      "cell_type": "markdown",
      "metadata": {
        "id": "hvbfkW0P0BGd"
      },
      "source": [
        "\n",
        "\n",
        "---\n",
        "\n",
        "## 1. Correlation between the general climate of a county with the health of its population"
      ]
    },
    {
      "cell_type": "code",
      "execution_count": null,
      "metadata": {
        "id": "zZmGF4GGkfne"
      },
      "outputs": [],
      "source": [
        "import numpy as np\n",
        "from sklearn.pipeline import make_pipeline\n",
        "from sklearn.preprocessing import StandardScaler\n",
        "from sklearn.svm import SVC\n",
        "from sklearn.model_selection import train_test_split\n",
        "from sklearn.decomposition import PCA"
      ]
    },
    {
      "cell_type": "markdown",
      "metadata": {
        "id": "2VNCQvIj-X77"
      },
      "source": [
        "Create joined dataframe and splitting into test and train sets"
      ]
    },
    {
      "cell_type": "code",
      "execution_count": null,
      "metadata": {
        "colab": {
          "base_uri": "https://localhost:8080/"
        },
        "id": "1VRHoMEcCPP-",
        "outputId": "102a22f8-ca50-4af5-86ca-f7990628dcd5"
      },
      "outputs": [
        {
          "name": "stdout",
          "output_type": "stream",
          "text": [
            "(3219, 16)\n",
            "(3219, 12)\n"
          ]
        }
      ],
      "source": [
        "print(demography_usa_categories['Diseases'].shape)\n",
        "print(demography_usa_categories['Climate'].shape)"
      ]
    },
    {
      "cell_type": "code",
      "execution_count": null,
      "metadata": {
        "id": "v9mu6z1L-V0a"
      },
      "outputs": [],
      "source": [
        "# Join the dataframes on OBJECTID\n",
        "demography_disease_climate=demography_usa_categories['Diseases'].merge(demography_usa_categories['Climate'],on=['OBJECTID'],how='inner',suffixes=('', '_y'))\n",
        "demography_disease_climate.drop(demography_disease_climate.filter(regex='_y$').columns.tolist(),axis=1, inplace=True)"
      ]
    },
    {
      "cell_type": "code",
      "execution_count": null,
      "metadata": {
        "colab": {
          "base_uri": "https://localhost:8080/"
        },
        "id": "LAQnULg1_TPc",
        "outputId": "6065bb16-4f46-445c-827f-69f58e154799"
      },
      "outputs": [
        {
          "data": {
            "text/plain": [
              "(3219, 23)"
            ]
          },
          "execution_count": 30,
          "metadata": {},
          "output_type": "execute_result"
        }
      ],
      "source": [
        "demography_disease_climate.shape"
      ]
    },
    {
      "cell_type": "code",
      "execution_count": null,
      "metadata": {
        "id": "X6pLhEWZIRdj"
      },
      "outputs": [],
      "source": [
        "# Create a new column IECCC_Zone by combining Climate Zone and Moisture Regime\n",
        "demography_disease_climate['IECC_Zone']=demography_disease_climate['IECC Climate Zone'].astype(str)+demography_disease_climate['IECC Moisture Regime']"
      ]
    },
    {
      "cell_type": "code",
      "execution_count": null,
      "metadata": {
        "colab": {
          "base_uri": "https://localhost:8080/"
        },
        "id": "Co9VCQqgIrDB",
        "outputId": "e24bc4e5-29d0-481e-fac9-869a8b1d1b33"
      },
      "outputs": [
        {
          "data": {
            "text/plain": [
              "(3219, 24)"
            ]
          },
          "execution_count": 39,
          "metadata": {},
          "output_type": "execute_result"
        }
      ],
      "source": [
        "demography_disease_climate.shape"
      ]
    },
    {
      "cell_type": "code",
      "execution_count": null,
      "metadata": {
        "id": "Yo3LPe2FCYT3"
      },
      "outputs": [],
      "source": [
        "demography_disease_climate_train,demography_disease_climate_test=train_test_split(demography_disease_climate,train_size=0.7)"
      ]
    },
    {
      "cell_type": "code",
      "execution_count": null,
      "metadata": {
        "colab": {
          "base_uri": "https://localhost:8080/"
        },
        "id": "bqasnETnC1fY",
        "outputId": "642e268f-1863-439d-c42e-833c0cbf053a"
      },
      "outputs": [
        {
          "name": "stdout",
          "output_type": "stream",
          "text": [
            "(2253, 24)\n",
            "(966, 24)\n"
          ]
        }
      ],
      "source": [
        "print(demography_disease_climate_train.shape)\n",
        "print(demography_disease_climate_test.shape)"
      ]
    },
    {
      "cell_type": "code",
      "execution_count": null,
      "metadata": {
        "id": "JIpY4Qy4F6rp"
      },
      "outputs": [],
      "source": [
        "feature_columns=['Prevalence of obesity', 'Hypertension', 'Diabetes', 'CVD', 'HIV/AIDS', 'cvd_100k', 'hypertension_100k']\n",
        "class_columns=['IECC_Zone']#,'IECC Climate Zone', 'IECC Moisture Regime', 'BA Climate Zone', 'Temp']"
      ]
    },
    {
      "cell_type": "code",
      "execution_count": null,
      "metadata": {
        "id": "wZ5zRD7EG69X"
      },
      "outputs": [],
      "source": [
        "# Form train and test datasets\n",
        "x_train=demography_disease_climate_train[feature_columns].values\n",
        "x_test=demography_disease_climate_test[feature_columns].values\n",
        "\n",
        "y_train=demography_disease_climate_train[class_columns].apply(lambda col: pd.factorize(col, sort=True)[0]).values\n",
        "y_test=demography_disease_climate_test[class_columns].apply(lambda col: pd.factorize(col, sort=True)[0]).values"
      ]
    },
    {
      "cell_type": "code",
      "execution_count": null,
      "metadata": {
        "colab": {
          "base_uri": "https://localhost:8080/"
        },
        "id": "Ua8lug2bK6Gf",
        "outputId": "9a4e39a0-2af0-48ae-825a-7877e8150ce9"
      },
      "outputs": [
        {
          "data": {
            "text/plain": [
              "array([[ 6],\n",
              "       [ 9],\n",
              "       [ 1],\n",
              "       ...,\n",
              "       [ 6],\n",
              "       [11],\n",
              "       [ 6]])"
            ]
          },
          "execution_count": 58,
          "metadata": {},
          "output_type": "execute_result"
        }
      ],
      "source": [
        "y_train"
      ]
    },
    {
      "cell_type": "markdown",
      "metadata": {
        "id": "nM-kZbqK-emg"
      },
      "source": [
        "Using SVM"
      ]
    },
    {
      "cell_type": "code",
      "execution_count": null,
      "metadata": {
        "id": "E-2t92R3Lkx7"
      },
      "outputs": [],
      "source": [
        "result_string=[]\n",
        "# k is no of features\n",
        "for k in range(1,len(feature_columns)+1):\n",
        "  svm = make_pipeline(StandardScaler(), PCA(n_components=k), SVC(gamma='auto'),)\n",
        "  _=svm.fit(x_train,y_train.ravel())\n",
        "  score=svm.score(x_test,y_test.ravel())\n",
        "  result_string.append(f\"num_features = {k} : {score}\")"
      ]
    },
    {
      "cell_type": "code",
      "execution_count": null,
      "metadata": {
        "colab": {
          "base_uri": "https://localhost:8080/"
        },
        "id": "guZ5qgCwMRoz",
        "outputId": "c9d7b9d3-f5c3-4a5b-8ef0-7aa0f5d4bf24"
      },
      "outputs": [
        {
          "name": "stdout",
          "output_type": "stream",
          "text": [
            "num_features = 1 : 0.2329192546583851\n",
            "num_features = 2 : 0.2587991718426501\n",
            "num_features = 3 : 0.3250517598343685\n",
            "num_features = 4 : 0.37267080745341613\n",
            "num_features = 5 : 0.36438923395445133\n",
            "num_features = 6 : 0.35714285714285715\n",
            "num_features = 7 : 0.34886128364389235\n"
          ]
        }
      ],
      "source": [
        "for result in result_string:\n",
        "  print(result)"
      ]
    },
    {
      "cell_type": "markdown",
      "metadata": {
        "id": "aPfEsNWEMk9l"
      },
      "source": [
        "Decision Trees"
      ]
    },
    {
      "cell_type": "code",
      "execution_count": null,
      "metadata": {
        "id": "-xKdt0A6MpN9"
      },
      "outputs": [],
      "source": [
        "from sklearn.tree import DecisionTreeClassifier"
      ]
    },
    {
      "cell_type": "code",
      "execution_count": null,
      "metadata": {
        "id": "iQGXGH-JPbd3"
      },
      "outputs": [],
      "source": [
        "svm = make_pipeline(StandardScaler(), DecisionTreeClassifier(max_features=4))\n",
        "_=svm.fit(x_train,y_train)\n",
        "score=svm.score(x_test,y_test)"
      ]
    },
    {
      "cell_type": "code",
      "execution_count": null,
      "metadata": {
        "colab": {
          "base_uri": "https://localhost:8080/"
        },
        "id": "s7nC5uCKPh4e",
        "outputId": "5c0d55b1-7df4-4983-82e5-915b36571377"
      },
      "outputs": [
        {
          "name": "stdout",
          "output_type": "stream",
          "text": [
            "0.30745341614906835\n"
          ]
        }
      ],
      "source": [
        "print(score)"
      ]
    },
    {
      "cell_type": "code",
      "execution_count": null,
      "metadata": {
        "colab": {
          "base_uri": "https://localhost:8080/"
        },
        "id": "hkCze4mqPyKO",
        "outputId": "56132208-2fed-490d-ddfc-28c55649a5be"
      },
      "outputs": [
        {
          "name": "stdout",
          "output_type": "stream",
          "text": [
            "depth = 7 : score = 0.3581780538302277\n"
          ]
        }
      ],
      "source": [
        "max_score=0\n",
        "depth=1\n",
        "# k is depth for decision tree\n",
        "for k in range(1,100):\n",
        "  tree = make_pipeline(StandardScaler(), DecisionTreeClassifier(max_depth=k))\n",
        "  _=tree.fit(x_train,y_train)\n",
        "  score=tree.score(x_test,y_test)\n",
        "  if score>max_score:\n",
        "    max_score=score\n",
        "    depth=k\n",
        "print(f\"depth = {depth} : score = {max_score}\")"
      ]
    },
    {
      "cell_type": "markdown",
      "metadata": {
        "id": "Qa1dgoL1Q1fU"
      },
      "source": [
        "Random Forest"
      ]
    },
    {
      "cell_type": "code",
      "execution_count": null,
      "metadata": {
        "id": "SF1yETpUoeIk"
      },
      "outputs": [],
      "source": [
        "from sklearn.ensemble import RandomForestClassifier"
      ]
    },
    {
      "cell_type": "code",
      "execution_count": null,
      "metadata": {
        "colab": {
          "base_uri": "https://localhost:8080/"
        },
        "id": "k3Jr1cO7Q0nj",
        "outputId": "5d1a28fd-9b2e-4254-ebb6-2a0a7f96c3b5"
      },
      "outputs": [
        {
          "name": "stdout",
          "output_type": "stream",
          "text": [
            "depth = 7 : score = 0.38716356107660455\n"
          ]
        }
      ],
      "source": [
        "max_score=0\n",
        "depth=1\n",
        "# k is depth for random forest\n",
        "for k in range(1,len(feature_columns)+1):\n",
        "  tree = make_pipeline(StandardScaler(), RandomForestClassifier(max_depth=k))\n",
        "  _=tree.fit(x_train,y_train.ravel())\n",
        "  score=tree.score(x_test,y_test.ravel())\n",
        "  if score>max_score:\n",
        "    max_score=score\n",
        "    depth=k\n",
        "print(f\"depth = {depth} : score = {max_score}\")"
      ]
    },
    {
      "cell_type": "markdown",
      "metadata": {
        "id": "6OPg-E81qi5g"
      },
      "source": [
        "Multi Layer Perceptron"
      ]
    },
    {
      "cell_type": "code",
      "execution_count": null,
      "metadata": {
        "id": "WnjZgdMCpnZW"
      },
      "outputs": [],
      "source": [
        "from sklearn.neural_network import MLPClassifier"
      ]
    },
    {
      "cell_type": "code",
      "execution_count": null,
      "metadata": {
        "colab": {
          "base_uri": "https://localhost:8080/"
        },
        "id": "24yYrEh-qocK",
        "outputId": "5651ebdf-1a11-4493-ed1f-dc5c6aee2b99"
      },
      "outputs": [
        {
          "name": "stdout",
          "output_type": "stream",
          "text": [
            "num_features = 5 : score = 0.41200828157349895\n"
          ]
        }
      ],
      "source": [
        "max_score=0\n",
        "num_features=1\n",
        "# k is no of features\n",
        "for k in range(1,len(feature_columns)+1):\n",
        "  nn = make_pipeline(StandardScaler(), PCA(n_components=k), MLPClassifier(random_state=1, max_iter=10000))\n",
        "  _=nn.fit(x_train,y_train.ravel())\n",
        "  score=nn.score(x_test,y_test.ravel())\n",
        "  if score>max_score:\n",
        "    max_score=score\n",
        "    num_features=k\n",
        "print(f\"num_features = {num_features} : score = {max_score}\")"
      ]
    },
    {
      "cell_type": "markdown",
      "metadata": {
        "id": "Nra1ynpOuFff"
      },
      "source": [
        "Conclusion:\n",
        "\n",
        "*Using various classifiers, a maximum test score of 41.2% could be achieved which indicates that there is weak or no correlation between thee health of the county and the climate*"
      ]
    },
    {
      "cell_type": "markdown",
      "metadata": {
        "id": "nrqcebPBsQV3"
      },
      "source": [
        "---\n",
        "\n",
        "## 2. Correlation between Climate of the county and number of pharmacies"
      ]
    },
    {
      "cell_type": "code",
      "execution_count": 52,
      "metadata": {
        "id": "aQ5k7-AHsPfH"
      },
      "outputs": [],
      "source": [
        "import numpy as np\n",
        "from sklearn.pipeline import make_pipeline\n",
        "from sklearn.preprocessing import StandardScaler\n",
        "from sklearn.svm import SVC\n",
        "from sklearn.model_selection import train_test_split\n",
        "from sklearn.decomposition import PCA"
      ]
    },
    {
      "cell_type": "markdown",
      "metadata": {
        "id": "euyRZJAGdUdv"
      },
      "source": [
        "Preprocess"
      ]
    },
    {
      "cell_type": "code",
      "execution_count": 53,
      "metadata": {
        "colab": {
          "base_uri": "https://localhost:8080/"
        },
        "id": "sdoYwl4TbDqp",
        "outputId": "091bc261-54da-4bc2-957b-1099480deb5f"
      },
      "outputs": [
        {
          "name": "stdout",
          "output_type": "stream",
          "text": [
            "(121, 6)\n",
            "(3219, 12)\n"
          ]
        }
      ],
      "source": [
        "print(pharmacy_county_statewise['Alaska'].shape)\n",
        "print(demography_usa_categories['Climate'].shape)"
      ]
    },
    {
      "cell_type": "code",
      "execution_count": 54,
      "metadata": {
        "id": "R2C_D7eVRZGp"
      },
      "outputs": [],
      "source": [
        "states_with_county_info = ['Alaska', 'Arkansas', 'California', 'Hawaii', 'Idaho', 'Maine', 'Missouri', 'Montana',\n",
        " 'Nebraska', 'North Carolina', 'Oregon', 'Rhode island', 'Texas']"
      ]
    },
    {
      "cell_type": "code",
      "execution_count": 96,
      "metadata": {
        "id": "1oJ3U6O0RIZz"
      },
      "outputs": [],
      "source": [
        "for state in states_with_county_info:\n",
        "  pharmacy_county_statewise[state]['county']=pharmacy_county_statewise[state]['county'].str.lower()"
      ]
    },
    {
      "cell_type": "code",
      "execution_count": 97,
      "metadata": {
        "id": "qWUReFpRRn4M"
      },
      "outputs": [],
      "source": [
        "# Remove extra strings like borough, municipality etc. from county names\n",
        "for state in states_with_county_info:\n",
        "  for ix in pharmacy_county_statewise[state].index:\n",
        "      county_name = pharmacy_county_statewise[state].loc[ix]['county']\n",
        "      if ' city and borough' in county_name:\n",
        "          county_name_new = county_name.replace(' city and borough', '')\n",
        "          pharmacy_county_statewise[state]['county'] = pharmacy_county_statewise[state]['county'].replace(county_name, county_name_new)\n",
        "      elif ' county' in county_name:\n",
        "          county_name_new = county_name.replace(' county', '')\n",
        "          pharmacy_county_statewise[state]['county'] = pharmacy_county_statewise[state]['county'].replace(county_name, county_name_new)\n",
        "      elif ' borough' in county_name:\n",
        "          county_name_new = county_name.replace(' borough','')\n",
        "          pharmacy_county_statewise[state]['county'] = pharmacy_county_statewise[state]['county'].replace(county_name, county_name_new)\n",
        "      elif ' municipality' in county_name:\n",
        "          county_name_new = county_name.replace(' municipality','')\n",
        "          pharmacy_county_statewise[state]['county'] = pharmacy_county_statewise[state]['county'].replace(county_name, county_name_new)\n",
        "      elif ' city' in county_name:\n",
        "          county_name_new = county_name.replace(' city','')\n",
        "          pharmacy_county_statewise[state]['county'] = pharmacy_county_statewise[state]['county'].replace(county_name, county_name_new)\n",
        "      elif ' census area' in county_name:\n",
        "          county_name_new = county_name.replace(' census area','')\n",
        "          pharmacy_county_statewise[state]['county'] = pharmacy_county_statewise[state]['county'].replace(county_name, county_name_new)"
      ]
    },
    {
      "cell_type": "code",
      "execution_count": 98,
      "metadata": {
        "colab": {
          "base_uri": "https://localhost:8080/"
        },
        "id": "vdyx0KogesAi",
        "outputId": "1b298c39-0a29-42a8-dc40-45709933e350"
      },
      "outputs": [
        {
          "data": {
            "text/plain": [
              "county\n",
              "anderson     7\n",
              "andrews      3\n",
              "angelina    13\n",
              "aransas      4\n",
              "archer       1\n",
              "            ..\n",
              "wood         9\n",
              "yoakum       2\n",
              "young        5\n",
              "zapata       2\n",
              "zavala       2\n",
              "Name: State, Length: 225, dtype: int64"
            ]
          },
          "execution_count": 98,
          "metadata": {},
          "output_type": "execute_result"
        }
      ],
      "source": [
        "pharmacy_county_statewise['Texas'].groupby(by='county').agg('count')['State']"
      ]
    },
    {
      "cell_type": "code",
      "execution_count": 99,
      "metadata": {
        "id": "Sh1skpvkbLWn"
      },
      "outputs": [],
      "source": [
        "# Form a dataframe with number of pharmacies in each county\n",
        "num_pharmacy_county_wise=[]\n",
        "\n",
        "for state in states_with_county_info:\n",
        "  num_pharmacy_county=pharmacy_county_statewise[state].groupby(by='county').agg('count')['State']\n",
        "  for county in num_pharmacy_county.keys():\n",
        "    num_pharmacy_county_wise.append([state,county,num_pharmacy_county[county]])\n",
        "\n",
        "num_pharmacy_county_wise=pd.DataFrame(num_pharmacy_county_wise, columns=[\"STATE_NAME\",\"County Name\",\"Num_Pharmacies\"])"
      ]
    },
    {
      "cell_type": "code",
      "execution_count": 100,
      "metadata": {
        "colab": {
          "base_uri": "https://localhost:8080/",
          "height": 424
        },
        "id": "KSyEOk5tXMi2",
        "outputId": "05b9fe21-8229-4379-be4b-aeaaff0ee0bc"
      },
      "outputs": [
        {
          "data": {
            "text/html": [
              "\n",
              "  <div id=\"df-49b7bff7-4160-4dac-9b06-153116a39085\">\n",
              "    <div class=\"colab-df-container\">\n",
              "      <div>\n",
              "<style scoped>\n",
              "    .dataframe tbody tr th:only-of-type {\n",
              "        vertical-align: middle;\n",
              "    }\n",
              "\n",
              "    .dataframe tbody tr th {\n",
              "        vertical-align: top;\n",
              "    }\n",
              "\n",
              "    .dataframe thead th {\n",
              "        text-align: right;\n",
              "    }\n",
              "</style>\n",
              "<table border=\"1\" class=\"dataframe\">\n",
              "  <thead>\n",
              "    <tr style=\"text-align: right;\">\n",
              "      <th></th>\n",
              "      <th>STATE_NAME</th>\n",
              "      <th>County Name</th>\n",
              "      <th>Num_Pharmacies</th>\n",
              "    </tr>\n",
              "  </thead>\n",
              "  <tbody>\n",
              "    <tr>\n",
              "      <th>0</th>\n",
              "      <td>Alaska</td>\n",
              "      <td>anchorage</td>\n",
              "      <td>51</td>\n",
              "    </tr>\n",
              "    <tr>\n",
              "      <th>1</th>\n",
              "      <td>Alaska</td>\n",
              "      <td>city and of juneau</td>\n",
              "      <td>1</td>\n",
              "    </tr>\n",
              "    <tr>\n",
              "      <th>2</th>\n",
              "      <td>Alaska</td>\n",
              "      <td>dillingham</td>\n",
              "      <td>1</td>\n",
              "    </tr>\n",
              "    <tr>\n",
              "      <th>3</th>\n",
              "      <td>Alaska</td>\n",
              "      <td>fairbanks north star</td>\n",
              "      <td>13</td>\n",
              "    </tr>\n",
              "    <tr>\n",
              "      <th>4</th>\n",
              "      <td>Alaska</td>\n",
              "      <td>haines</td>\n",
              "      <td>1</td>\n",
              "    </tr>\n",
              "    <tr>\n",
              "      <th>...</th>\n",
              "      <td>...</td>\n",
              "      <td>...</td>\n",
              "      <td>...</td>\n",
              "    </tr>\n",
              "    <tr>\n",
              "      <th>805</th>\n",
              "      <td>Texas</td>\n",
              "      <td>wood</td>\n",
              "      <td>9</td>\n",
              "    </tr>\n",
              "    <tr>\n",
              "      <th>806</th>\n",
              "      <td>Texas</td>\n",
              "      <td>yoakum</td>\n",
              "      <td>2</td>\n",
              "    </tr>\n",
              "    <tr>\n",
              "      <th>807</th>\n",
              "      <td>Texas</td>\n",
              "      <td>young</td>\n",
              "      <td>5</td>\n",
              "    </tr>\n",
              "    <tr>\n",
              "      <th>808</th>\n",
              "      <td>Texas</td>\n",
              "      <td>zapata</td>\n",
              "      <td>2</td>\n",
              "    </tr>\n",
              "    <tr>\n",
              "      <th>809</th>\n",
              "      <td>Texas</td>\n",
              "      <td>zavala</td>\n",
              "      <td>2</td>\n",
              "    </tr>\n",
              "  </tbody>\n",
              "</table>\n",
              "<p>810 rows × 3 columns</p>\n",
              "</div>\n",
              "      <button class=\"colab-df-convert\" onclick=\"convertToInteractive('df-49b7bff7-4160-4dac-9b06-153116a39085')\"\n",
              "              title=\"Convert this dataframe to an interactive table.\"\n",
              "              style=\"display:none;\">\n",
              "        \n",
              "  <svg xmlns=\"http://www.w3.org/2000/svg\" height=\"24px\"viewBox=\"0 0 24 24\"\n",
              "       width=\"24px\">\n",
              "    <path d=\"M0 0h24v24H0V0z\" fill=\"none\"/>\n",
              "    <path d=\"M18.56 5.44l.94 2.06.94-2.06 2.06-.94-2.06-.94-.94-2.06-.94 2.06-2.06.94zm-11 1L8.5 8.5l.94-2.06 2.06-.94-2.06-.94L8.5 2.5l-.94 2.06-2.06.94zm10 10l.94 2.06.94-2.06 2.06-.94-2.06-.94-.94-2.06-.94 2.06-2.06.94z\"/><path d=\"M17.41 7.96l-1.37-1.37c-.4-.4-.92-.59-1.43-.59-.52 0-1.04.2-1.43.59L10.3 9.45l-7.72 7.72c-.78.78-.78 2.05 0 2.83L4 21.41c.39.39.9.59 1.41.59.51 0 1.02-.2 1.41-.59l7.78-7.78 2.81-2.81c.8-.78.8-2.07 0-2.86zM5.41 20L4 18.59l7.72-7.72 1.47 1.35L5.41 20z\"/>\n",
              "  </svg>\n",
              "      </button>\n",
              "      \n",
              "  <style>\n",
              "    .colab-df-container {\n",
              "      display:flex;\n",
              "      flex-wrap:wrap;\n",
              "      gap: 12px;\n",
              "    }\n",
              "\n",
              "    .colab-df-convert {\n",
              "      background-color: #E8F0FE;\n",
              "      border: none;\n",
              "      border-radius: 50%;\n",
              "      cursor: pointer;\n",
              "      display: none;\n",
              "      fill: #1967D2;\n",
              "      height: 32px;\n",
              "      padding: 0 0 0 0;\n",
              "      width: 32px;\n",
              "    }\n",
              "\n",
              "    .colab-df-convert:hover {\n",
              "      background-color: #E2EBFA;\n",
              "      box-shadow: 0px 1px 2px rgba(60, 64, 67, 0.3), 0px 1px 3px 1px rgba(60, 64, 67, 0.15);\n",
              "      fill: #174EA6;\n",
              "    }\n",
              "\n",
              "    [theme=dark] .colab-df-convert {\n",
              "      background-color: #3B4455;\n",
              "      fill: #D2E3FC;\n",
              "    }\n",
              "\n",
              "    [theme=dark] .colab-df-convert:hover {\n",
              "      background-color: #434B5C;\n",
              "      box-shadow: 0px 1px 3px 1px rgba(0, 0, 0, 0.15);\n",
              "      filter: drop-shadow(0px 1px 2px rgba(0, 0, 0, 0.3));\n",
              "      fill: #FFFFFF;\n",
              "    }\n",
              "  </style>\n",
              "\n",
              "      <script>\n",
              "        const buttonEl =\n",
              "          document.querySelector('#df-49b7bff7-4160-4dac-9b06-153116a39085 button.colab-df-convert');\n",
              "        buttonEl.style.display =\n",
              "          google.colab.kernel.accessAllowed ? 'block' : 'none';\n",
              "\n",
              "        async function convertToInteractive(key) {\n",
              "          const element = document.querySelector('#df-49b7bff7-4160-4dac-9b06-153116a39085');\n",
              "          const dataTable =\n",
              "            await google.colab.kernel.invokeFunction('convertToInteractive',\n",
              "                                                     [key], {});\n",
              "          if (!dataTable) return;\n",
              "\n",
              "          const docLinkHtml = 'Like what you see? Visit the ' +\n",
              "            '<a target=\"_blank\" href=https://colab.research.google.com/notebooks/data_table.ipynb>data table notebook</a>'\n",
              "            + ' to learn more about interactive tables.';\n",
              "          element.innerHTML = '';\n",
              "          dataTable['output_type'] = 'display_data';\n",
              "          await google.colab.output.renderOutput(dataTable, element);\n",
              "          const docLink = document.createElement('div');\n",
              "          docLink.innerHTML = docLinkHtml;\n",
              "          element.appendChild(docLink);\n",
              "        }\n",
              "      </script>\n",
              "    </div>\n",
              "  </div>\n",
              "  "
            ],
            "text/plain": [
              "    STATE_NAME           County Name  Num_Pharmacies\n",
              "0       Alaska             anchorage              51\n",
              "1       Alaska    city and of juneau               1\n",
              "2       Alaska            dillingham               1\n",
              "3       Alaska  fairbanks north star              13\n",
              "4       Alaska                haines               1\n",
              "..         ...                   ...             ...\n",
              "805      Texas                  wood               9\n",
              "806      Texas                yoakum               2\n",
              "807      Texas                 young               5\n",
              "808      Texas                zapata               2\n",
              "809      Texas                zavala               2\n",
              "\n",
              "[810 rows x 3 columns]"
            ]
          },
          "execution_count": 100,
          "metadata": {},
          "output_type": "execute_result"
        }
      ],
      "source": [
        "num_pharmacy_county_wise"
      ]
    },
    {
      "cell_type": "code",
      "execution_count": 101,
      "metadata": {
        "id": "dKRAXP3ca7-p"
      },
      "outputs": [],
      "source": [
        "demography_usa_categories['Climate']['County Name']=demography_usa_categories['Climate']['County Name'].str.lower()"
      ]
    },
    {
      "cell_type": "code",
      "execution_count": 102,
      "metadata": {
        "id": "8SlLL4CnbDqp"
      },
      "outputs": [],
      "source": [
        "# Join the dataframe on State and county names\n",
        "pharmacy_count_climate=pd.merge(demography_usa_categories['Climate'],num_pharmacy_county_wise,on=['STATE_NAME','County Name'],suffixes=('', '_y'))\n",
        "pharmacy_count_climate.drop(pharmacy_count_climate.filter(regex='_y$').columns.tolist(),axis=1, inplace=True)"
      ]
    },
    {
      "cell_type": "code",
      "execution_count": 105,
      "metadata": {
        "colab": {
          "base_uri": "https://localhost:8080/",
          "height": 520
        },
        "id": "fsR8UQ9xbDqq",
        "outputId": "8e9a8c36-d7cd-4b83-b24e-25ad98337375"
      },
      "outputs": [
        {
          "data": {
            "text/html": [
              "\n",
              "  <div id=\"df-3c2417cb-dd4d-4e68-a7ad-5f9d71dd9ef1\">\n",
              "    <div class=\"colab-df-container\">\n",
              "      <div>\n",
              "<style scoped>\n",
              "    .dataframe tbody tr th:only-of-type {\n",
              "        vertical-align: middle;\n",
              "    }\n",
              "\n",
              "    .dataframe tbody tr th {\n",
              "        vertical-align: top;\n",
              "    }\n",
              "\n",
              "    .dataframe thead th {\n",
              "        text-align: right;\n",
              "    }\n",
              "</style>\n",
              "<table border=\"1\" class=\"dataframe\">\n",
              "  <thead>\n",
              "    <tr style=\"text-align: right;\">\n",
              "      <th></th>\n",
              "      <th>OBJECTID</th>\n",
              "      <th>NAME</th>\n",
              "      <th>County Name</th>\n",
              "      <th>STATE_NAME</th>\n",
              "      <th>State</th>\n",
              "      <th>STATE_FIPS</th>\n",
              "      <th>CNTY_FIPS</th>\n",
              "      <th>FIPS</th>\n",
              "      <th>IECC Climate Zone</th>\n",
              "      <th>IECC Moisture Regime</th>\n",
              "      <th>BA Climate Zone</th>\n",
              "      <th>Temp</th>\n",
              "      <th>Num_Pharmacies</th>\n",
              "      <th>IECC_Zone</th>\n",
              "    </tr>\n",
              "  </thead>\n",
              "  <tbody>\n",
              "    <tr>\n",
              "      <th>0</th>\n",
              "      <td>2958</td>\n",
              "      <td>Anchorage</td>\n",
              "      <td>anchorage</td>\n",
              "      <td>Alaska</td>\n",
              "      <td>AK</td>\n",
              "      <td>2</td>\n",
              "      <td>20</td>\n",
              "      <td>2020</td>\n",
              "      <td>7</td>\n",
              "      <td>NaN</td>\n",
              "      <td>Very Cold</td>\n",
              "      <td>1733.300624</td>\n",
              "      <td>51</td>\n",
              "      <td>NaN</td>\n",
              "    </tr>\n",
              "    <tr>\n",
              "      <th>1</th>\n",
              "      <td>3179</td>\n",
              "      <td>Haines</td>\n",
              "      <td>haines</td>\n",
              "      <td>Alaska</td>\n",
              "      <td>AK</td>\n",
              "      <td>2</td>\n",
              "      <td>100</td>\n",
              "      <td>2100</td>\n",
              "      <td>7</td>\n",
              "      <td>NaN</td>\n",
              "      <td>Very Cold</td>\n",
              "      <td>2367.380199</td>\n",
              "      <td>1</td>\n",
              "      <td>NaN</td>\n",
              "    </tr>\n",
              "    <tr>\n",
              "      <th>2</th>\n",
              "      <td>3181</td>\n",
              "      <td>Juneau</td>\n",
              "      <td>juneau</td>\n",
              "      <td>Alaska</td>\n",
              "      <td>AK</td>\n",
              "      <td>2</td>\n",
              "      <td>110</td>\n",
              "      <td>2110</td>\n",
              "      <td>7</td>\n",
              "      <td>NaN</td>\n",
              "      <td>Very Cold</td>\n",
              "      <td>2761.022564</td>\n",
              "      <td>6</td>\n",
              "      <td>NaN</td>\n",
              "    </tr>\n",
              "    <tr>\n",
              "      <th>3</th>\n",
              "      <td>3184</td>\n",
              "      <td>Fairbanks North Star</td>\n",
              "      <td>fairbanks north star</td>\n",
              "      <td>Alaska</td>\n",
              "      <td>AK</td>\n",
              "      <td>2</td>\n",
              "      <td>90</td>\n",
              "      <td>2090</td>\n",
              "      <td>8</td>\n",
              "      <td>NaN</td>\n",
              "      <td>Subarctic</td>\n",
              "      <td>7435.314794</td>\n",
              "      <td>13</td>\n",
              "      <td>NaN</td>\n",
              "    </tr>\n",
              "    <tr>\n",
              "      <th>4</th>\n",
              "      <td>3194</td>\n",
              "      <td>Matanuska-Susitna</td>\n",
              "      <td>matanuska-susitna</td>\n",
              "      <td>Alaska</td>\n",
              "      <td>AK</td>\n",
              "      <td>2</td>\n",
              "      <td>170</td>\n",
              "      <td>2170</td>\n",
              "      <td>7</td>\n",
              "      <td>NaN</td>\n",
              "      <td>Very Cold</td>\n",
              "      <td>24976.167683</td>\n",
              "      <td>9</td>\n",
              "      <td>NaN</td>\n",
              "    </tr>\n",
              "    <tr>\n",
              "      <th>...</th>\n",
              "      <td>...</td>\n",
              "      <td>...</td>\n",
              "      <td>...</td>\n",
              "      <td>...</td>\n",
              "      <td>...</td>\n",
              "      <td>...</td>\n",
              "      <td>...</td>\n",
              "      <td>...</td>\n",
              "      <td>...</td>\n",
              "      <td>...</td>\n",
              "      <td>...</td>\n",
              "      <td>...</td>\n",
              "      <td>...</td>\n",
              "      <td>...</td>\n",
              "    </tr>\n",
              "    <tr>\n",
              "      <th>793</th>\n",
              "      <td>3129</td>\n",
              "      <td>Cameron</td>\n",
              "      <td>cameron</td>\n",
              "      <td>Texas</td>\n",
              "      <td>TX</td>\n",
              "      <td>48</td>\n",
              "      <td>61</td>\n",
              "      <td>48061</td>\n",
              "      <td>2</td>\n",
              "      <td>A</td>\n",
              "      <td>Hot-Humid</td>\n",
              "      <td>949.719526</td>\n",
              "      <td>73</td>\n",
              "      <td>2A</td>\n",
              "    </tr>\n",
              "    <tr>\n",
              "      <th>794</th>\n",
              "      <td>3131</td>\n",
              "      <td>Matagorda</td>\n",
              "      <td>matagorda</td>\n",
              "      <td>Texas</td>\n",
              "      <td>TX</td>\n",
              "      <td>48</td>\n",
              "      <td>321</td>\n",
              "      <td>48321</td>\n",
              "      <td>2</td>\n",
              "      <td>A</td>\n",
              "      <td>Hot-Humid</td>\n",
              "      <td>1140.332862</td>\n",
              "      <td>8</td>\n",
              "      <td>2A</td>\n",
              "    </tr>\n",
              "    <tr>\n",
              "      <th>795</th>\n",
              "      <td>3153</td>\n",
              "      <td>Nueces</td>\n",
              "      <td>nueces</td>\n",
              "      <td>Texas</td>\n",
              "      <td>TX</td>\n",
              "      <td>48</td>\n",
              "      <td>355</td>\n",
              "      <td>48355</td>\n",
              "      <td>2</td>\n",
              "      <td>A</td>\n",
              "      <td>Hot-Humid</td>\n",
              "      <td>844.128000</td>\n",
              "      <td>55</td>\n",
              "      <td>2A</td>\n",
              "    </tr>\n",
              "    <tr>\n",
              "      <th>796</th>\n",
              "      <td>3157</td>\n",
              "      <td>Aransas</td>\n",
              "      <td>aransas</td>\n",
              "      <td>Texas</td>\n",
              "      <td>TX</td>\n",
              "      <td>48</td>\n",
              "      <td>7</td>\n",
              "      <td>48007</td>\n",
              "      <td>2</td>\n",
              "      <td>A</td>\n",
              "      <td>Hot-Humid</td>\n",
              "      <td>263.740586</td>\n",
              "      <td>4</td>\n",
              "      <td>2A</td>\n",
              "    </tr>\n",
              "    <tr>\n",
              "      <th>797</th>\n",
              "      <td>3161</td>\n",
              "      <td>Calhoun</td>\n",
              "      <td>calhoun</td>\n",
              "      <td>Texas</td>\n",
              "      <td>TX</td>\n",
              "      <td>48</td>\n",
              "      <td>57</td>\n",
              "      <td>48057</td>\n",
              "      <td>2</td>\n",
              "      <td>A</td>\n",
              "      <td>Hot-Humid</td>\n",
              "      <td>544.774106</td>\n",
              "      <td>4</td>\n",
              "      <td>2A</td>\n",
              "    </tr>\n",
              "  </tbody>\n",
              "</table>\n",
              "<p>798 rows × 14 columns</p>\n",
              "</div>\n",
              "      <button class=\"colab-df-convert\" onclick=\"convertToInteractive('df-3c2417cb-dd4d-4e68-a7ad-5f9d71dd9ef1')\"\n",
              "              title=\"Convert this dataframe to an interactive table.\"\n",
              "              style=\"display:none;\">\n",
              "        \n",
              "  <svg xmlns=\"http://www.w3.org/2000/svg\" height=\"24px\"viewBox=\"0 0 24 24\"\n",
              "       width=\"24px\">\n",
              "    <path d=\"M0 0h24v24H0V0z\" fill=\"none\"/>\n",
              "    <path d=\"M18.56 5.44l.94 2.06.94-2.06 2.06-.94-2.06-.94-.94-2.06-.94 2.06-2.06.94zm-11 1L8.5 8.5l.94-2.06 2.06-.94-2.06-.94L8.5 2.5l-.94 2.06-2.06.94zm10 10l.94 2.06.94-2.06 2.06-.94-2.06-.94-.94-2.06-.94 2.06-2.06.94z\"/><path d=\"M17.41 7.96l-1.37-1.37c-.4-.4-.92-.59-1.43-.59-.52 0-1.04.2-1.43.59L10.3 9.45l-7.72 7.72c-.78.78-.78 2.05 0 2.83L4 21.41c.39.39.9.59 1.41.59.51 0 1.02-.2 1.41-.59l7.78-7.78 2.81-2.81c.8-.78.8-2.07 0-2.86zM5.41 20L4 18.59l7.72-7.72 1.47 1.35L5.41 20z\"/>\n",
              "  </svg>\n",
              "      </button>\n",
              "      \n",
              "  <style>\n",
              "    .colab-df-container {\n",
              "      display:flex;\n",
              "      flex-wrap:wrap;\n",
              "      gap: 12px;\n",
              "    }\n",
              "\n",
              "    .colab-df-convert {\n",
              "      background-color: #E8F0FE;\n",
              "      border: none;\n",
              "      border-radius: 50%;\n",
              "      cursor: pointer;\n",
              "      display: none;\n",
              "      fill: #1967D2;\n",
              "      height: 32px;\n",
              "      padding: 0 0 0 0;\n",
              "      width: 32px;\n",
              "    }\n",
              "\n",
              "    .colab-df-convert:hover {\n",
              "      background-color: #E2EBFA;\n",
              "      box-shadow: 0px 1px 2px rgba(60, 64, 67, 0.3), 0px 1px 3px 1px rgba(60, 64, 67, 0.15);\n",
              "      fill: #174EA6;\n",
              "    }\n",
              "\n",
              "    [theme=dark] .colab-df-convert {\n",
              "      background-color: #3B4455;\n",
              "      fill: #D2E3FC;\n",
              "    }\n",
              "\n",
              "    [theme=dark] .colab-df-convert:hover {\n",
              "      background-color: #434B5C;\n",
              "      box-shadow: 0px 1px 3px 1px rgba(0, 0, 0, 0.15);\n",
              "      filter: drop-shadow(0px 1px 2px rgba(0, 0, 0, 0.3));\n",
              "      fill: #FFFFFF;\n",
              "    }\n",
              "  </style>\n",
              "\n",
              "      <script>\n",
              "        const buttonEl =\n",
              "          document.querySelector('#df-3c2417cb-dd4d-4e68-a7ad-5f9d71dd9ef1 button.colab-df-convert');\n",
              "        buttonEl.style.display =\n",
              "          google.colab.kernel.accessAllowed ? 'block' : 'none';\n",
              "\n",
              "        async function convertToInteractive(key) {\n",
              "          const element = document.querySelector('#df-3c2417cb-dd4d-4e68-a7ad-5f9d71dd9ef1');\n",
              "          const dataTable =\n",
              "            await google.colab.kernel.invokeFunction('convertToInteractive',\n",
              "                                                     [key], {});\n",
              "          if (!dataTable) return;\n",
              "\n",
              "          const docLinkHtml = 'Like what you see? Visit the ' +\n",
              "            '<a target=\"_blank\" href=https://colab.research.google.com/notebooks/data_table.ipynb>data table notebook</a>'\n",
              "            + ' to learn more about interactive tables.';\n",
              "          element.innerHTML = '';\n",
              "          dataTable['output_type'] = 'display_data';\n",
              "          await google.colab.output.renderOutput(dataTable, element);\n",
              "          const docLink = document.createElement('div');\n",
              "          docLink.innerHTML = docLinkHtml;\n",
              "          element.appendChild(docLink);\n",
              "        }\n",
              "      </script>\n",
              "    </div>\n",
              "  </div>\n",
              "  "
            ],
            "text/plain": [
              "     OBJECTID                  NAME           County Name STATE_NAME State  \\\n",
              "0        2958             Anchorage             anchorage     Alaska    AK   \n",
              "1        3179                Haines                haines     Alaska    AK   \n",
              "2        3181                Juneau                juneau     Alaska    AK   \n",
              "3        3184  Fairbanks North Star  fairbanks north star     Alaska    AK   \n",
              "4        3194     Matanuska-Susitna     matanuska-susitna     Alaska    AK   \n",
              "..        ...                   ...                   ...        ...   ...   \n",
              "793      3129               Cameron               cameron      Texas    TX   \n",
              "794      3131             Matagorda             matagorda      Texas    TX   \n",
              "795      3153                Nueces                nueces      Texas    TX   \n",
              "796      3157               Aransas               aransas      Texas    TX   \n",
              "797      3161               Calhoun               calhoun      Texas    TX   \n",
              "\n",
              "     STATE_FIPS  CNTY_FIPS   FIPS  IECC Climate Zone IECC Moisture Regime  \\\n",
              "0             2         20   2020                  7                  NaN   \n",
              "1             2        100   2100                  7                  NaN   \n",
              "2             2        110   2110                  7                  NaN   \n",
              "3             2         90   2090                  8                  NaN   \n",
              "4             2        170   2170                  7                  NaN   \n",
              "..          ...        ...    ...                ...                  ...   \n",
              "793          48         61  48061                  2                    A   \n",
              "794          48        321  48321                  2                    A   \n",
              "795          48        355  48355                  2                    A   \n",
              "796          48          7  48007                  2                    A   \n",
              "797          48         57  48057                  2                    A   \n",
              "\n",
              "    BA Climate Zone          Temp  Num_Pharmacies IECC_Zone  \n",
              "0         Very Cold   1733.300624              51       NaN  \n",
              "1         Very Cold   2367.380199               1       NaN  \n",
              "2         Very Cold   2761.022564               6       NaN  \n",
              "3         Subarctic   7435.314794              13       NaN  \n",
              "4         Very Cold  24976.167683               9       NaN  \n",
              "..              ...           ...             ...       ...  \n",
              "793       Hot-Humid    949.719526              73        2A  \n",
              "794       Hot-Humid   1140.332862               8        2A  \n",
              "795       Hot-Humid    844.128000              55        2A  \n",
              "796       Hot-Humid    263.740586               4        2A  \n",
              "797       Hot-Humid    544.774106               4        2A  \n",
              "\n",
              "[798 rows x 14 columns]"
            ]
          },
          "execution_count": 105,
          "metadata": {},
          "output_type": "execute_result"
        }
      ],
      "source": [
        "pharmacy_count_climate"
      ]
    },
    {
      "cell_type": "code",
      "execution_count": 104,
      "metadata": {
        "id": "QUJ_kpZGbDqq"
      },
      "outputs": [],
      "source": [
        "pharmacy_count_climate['IECC_Zone']=pharmacy_count_climate['IECC Climate Zone'].astype(str)+pharmacy_count_climate['IECC Moisture Regime']"
      ]
    },
    {
      "cell_type": "code",
      "execution_count": 110,
      "metadata": {
        "colab": {
          "base_uri": "https://localhost:8080/",
          "height": 485
        },
        "id": "Z7AKhtV8bDqq",
        "outputId": "b6be0b11-1ca4-4bb8-ccfb-0d664daa87fc"
      },
      "outputs": [
        {
          "data": {
            "text/html": [
              "\n",
              "  <div id=\"df-bb313865-f6a9-47da-80ab-abc31a90b90b\">\n",
              "    <div class=\"colab-df-container\">\n",
              "      <div>\n",
              "<style scoped>\n",
              "    .dataframe tbody tr th:only-of-type {\n",
              "        vertical-align: middle;\n",
              "    }\n",
              "\n",
              "    .dataframe tbody tr th {\n",
              "        vertical-align: top;\n",
              "    }\n",
              "\n",
              "    .dataframe thead th {\n",
              "        text-align: right;\n",
              "    }\n",
              "</style>\n",
              "<table border=\"1\" class=\"dataframe\">\n",
              "  <thead>\n",
              "    <tr style=\"text-align: right;\">\n",
              "      <th></th>\n",
              "      <th>OBJECTID</th>\n",
              "      <th>NAME</th>\n",
              "      <th>County Name</th>\n",
              "      <th>STATE_NAME</th>\n",
              "      <th>State</th>\n",
              "      <th>STATE_FIPS</th>\n",
              "      <th>CNTY_FIPS</th>\n",
              "      <th>FIPS</th>\n",
              "      <th>IECC Climate Zone</th>\n",
              "      <th>IECC Moisture Regime</th>\n",
              "      <th>BA Climate Zone</th>\n",
              "      <th>Temp</th>\n",
              "      <th>Num_Pharmacies</th>\n",
              "      <th>IECC_Zone</th>\n",
              "    </tr>\n",
              "  </thead>\n",
              "  <tbody>\n",
              "    <tr>\n",
              "      <th>19</th>\n",
              "      <td>703</td>\n",
              "      <td>Cleburne</td>\n",
              "      <td>cleburne</td>\n",
              "      <td>Arkansas</td>\n",
              "      <td>AR</td>\n",
              "      <td>5</td>\n",
              "      <td>23</td>\n",
              "      <td>5023</td>\n",
              "      <td>3</td>\n",
              "      <td>A</td>\n",
              "      <td>Mixed-Humid</td>\n",
              "      <td>591.920155</td>\n",
              "      <td>7</td>\n",
              "      <td>3A</td>\n",
              "    </tr>\n",
              "    <tr>\n",
              "      <th>20</th>\n",
              "      <td>929</td>\n",
              "      <td>Boone</td>\n",
              "      <td>boone</td>\n",
              "      <td>Arkansas</td>\n",
              "      <td>AR</td>\n",
              "      <td>5</td>\n",
              "      <td>9</td>\n",
              "      <td>5009</td>\n",
              "      <td>4</td>\n",
              "      <td>A</td>\n",
              "      <td>Mixed-Humid</td>\n",
              "      <td>601.756172</td>\n",
              "      <td>7</td>\n",
              "      <td>4A</td>\n",
              "    </tr>\n",
              "    <tr>\n",
              "      <th>21</th>\n",
              "      <td>936</td>\n",
              "      <td>Cross</td>\n",
              "      <td>cross</td>\n",
              "      <td>Arkansas</td>\n",
              "      <td>AR</td>\n",
              "      <td>5</td>\n",
              "      <td>37</td>\n",
              "      <td>5037</td>\n",
              "      <td>3</td>\n",
              "      <td>A</td>\n",
              "      <td>Mixed-Humid</td>\n",
              "      <td>622.348691</td>\n",
              "      <td>5</td>\n",
              "      <td>3A</td>\n",
              "    </tr>\n",
              "    <tr>\n",
              "      <th>22</th>\n",
              "      <td>1285</td>\n",
              "      <td>Searcy</td>\n",
              "      <td>searcy</td>\n",
              "      <td>Arkansas</td>\n",
              "      <td>AR</td>\n",
              "      <td>5</td>\n",
              "      <td>129</td>\n",
              "      <td>5129</td>\n",
              "      <td>4</td>\n",
              "      <td>A</td>\n",
              "      <td>Mixed-Humid</td>\n",
              "      <td>668.532626</td>\n",
              "      <td>2</td>\n",
              "      <td>4A</td>\n",
              "    </tr>\n",
              "    <tr>\n",
              "      <th>23</th>\n",
              "      <td>1307</td>\n",
              "      <td>Columbia</td>\n",
              "      <td>columbia</td>\n",
              "      <td>Arkansas</td>\n",
              "      <td>AR</td>\n",
              "      <td>5</td>\n",
              "      <td>27</td>\n",
              "      <td>5027</td>\n",
              "      <td>3</td>\n",
              "      <td>A</td>\n",
              "      <td>Hot-Humid</td>\n",
              "      <td>766.630310</td>\n",
              "      <td>5</td>\n",
              "      <td>3A</td>\n",
              "    </tr>\n",
              "    <tr>\n",
              "      <th>...</th>\n",
              "      <td>...</td>\n",
              "      <td>...</td>\n",
              "      <td>...</td>\n",
              "      <td>...</td>\n",
              "      <td>...</td>\n",
              "      <td>...</td>\n",
              "      <td>...</td>\n",
              "      <td>...</td>\n",
              "      <td>...</td>\n",
              "      <td>...</td>\n",
              "      <td>...</td>\n",
              "      <td>...</td>\n",
              "      <td>...</td>\n",
              "      <td>...</td>\n",
              "    </tr>\n",
              "    <tr>\n",
              "      <th>793</th>\n",
              "      <td>3129</td>\n",
              "      <td>Cameron</td>\n",
              "      <td>cameron</td>\n",
              "      <td>Texas</td>\n",
              "      <td>TX</td>\n",
              "      <td>48</td>\n",
              "      <td>61</td>\n",
              "      <td>48061</td>\n",
              "      <td>2</td>\n",
              "      <td>A</td>\n",
              "      <td>Hot-Humid</td>\n",
              "      <td>949.719526</td>\n",
              "      <td>73</td>\n",
              "      <td>2A</td>\n",
              "    </tr>\n",
              "    <tr>\n",
              "      <th>794</th>\n",
              "      <td>3131</td>\n",
              "      <td>Matagorda</td>\n",
              "      <td>matagorda</td>\n",
              "      <td>Texas</td>\n",
              "      <td>TX</td>\n",
              "      <td>48</td>\n",
              "      <td>321</td>\n",
              "      <td>48321</td>\n",
              "      <td>2</td>\n",
              "      <td>A</td>\n",
              "      <td>Hot-Humid</td>\n",
              "      <td>1140.332862</td>\n",
              "      <td>8</td>\n",
              "      <td>2A</td>\n",
              "    </tr>\n",
              "    <tr>\n",
              "      <th>795</th>\n",
              "      <td>3153</td>\n",
              "      <td>Nueces</td>\n",
              "      <td>nueces</td>\n",
              "      <td>Texas</td>\n",
              "      <td>TX</td>\n",
              "      <td>48</td>\n",
              "      <td>355</td>\n",
              "      <td>48355</td>\n",
              "      <td>2</td>\n",
              "      <td>A</td>\n",
              "      <td>Hot-Humid</td>\n",
              "      <td>844.128000</td>\n",
              "      <td>55</td>\n",
              "      <td>2A</td>\n",
              "    </tr>\n",
              "    <tr>\n",
              "      <th>796</th>\n",
              "      <td>3157</td>\n",
              "      <td>Aransas</td>\n",
              "      <td>aransas</td>\n",
              "      <td>Texas</td>\n",
              "      <td>TX</td>\n",
              "      <td>48</td>\n",
              "      <td>7</td>\n",
              "      <td>48007</td>\n",
              "      <td>2</td>\n",
              "      <td>A</td>\n",
              "      <td>Hot-Humid</td>\n",
              "      <td>263.740586</td>\n",
              "      <td>4</td>\n",
              "      <td>2A</td>\n",
              "    </tr>\n",
              "    <tr>\n",
              "      <th>797</th>\n",
              "      <td>3161</td>\n",
              "      <td>Calhoun</td>\n",
              "      <td>calhoun</td>\n",
              "      <td>Texas</td>\n",
              "      <td>TX</td>\n",
              "      <td>48</td>\n",
              "      <td>57</td>\n",
              "      <td>48057</td>\n",
              "      <td>2</td>\n",
              "      <td>A</td>\n",
              "      <td>Hot-Humid</td>\n",
              "      <td>544.774106</td>\n",
              "      <td>4</td>\n",
              "      <td>2A</td>\n",
              "    </tr>\n",
              "  </tbody>\n",
              "</table>\n",
              "<p>778 rows × 14 columns</p>\n",
              "</div>\n",
              "      <button class=\"colab-df-convert\" onclick=\"convertToInteractive('df-bb313865-f6a9-47da-80ab-abc31a90b90b')\"\n",
              "              title=\"Convert this dataframe to an interactive table.\"\n",
              "              style=\"display:none;\">\n",
              "        \n",
              "  <svg xmlns=\"http://www.w3.org/2000/svg\" height=\"24px\"viewBox=\"0 0 24 24\"\n",
              "       width=\"24px\">\n",
              "    <path d=\"M0 0h24v24H0V0z\" fill=\"none\"/>\n",
              "    <path d=\"M18.56 5.44l.94 2.06.94-2.06 2.06-.94-2.06-.94-.94-2.06-.94 2.06-2.06.94zm-11 1L8.5 8.5l.94-2.06 2.06-.94-2.06-.94L8.5 2.5l-.94 2.06-2.06.94zm10 10l.94 2.06.94-2.06 2.06-.94-2.06-.94-.94-2.06-.94 2.06-2.06.94z\"/><path d=\"M17.41 7.96l-1.37-1.37c-.4-.4-.92-.59-1.43-.59-.52 0-1.04.2-1.43.59L10.3 9.45l-7.72 7.72c-.78.78-.78 2.05 0 2.83L4 21.41c.39.39.9.59 1.41.59.51 0 1.02-.2 1.41-.59l7.78-7.78 2.81-2.81c.8-.78.8-2.07 0-2.86zM5.41 20L4 18.59l7.72-7.72 1.47 1.35L5.41 20z\"/>\n",
              "  </svg>\n",
              "      </button>\n",
              "      \n",
              "  <style>\n",
              "    .colab-df-container {\n",
              "      display:flex;\n",
              "      flex-wrap:wrap;\n",
              "      gap: 12px;\n",
              "    }\n",
              "\n",
              "    .colab-df-convert {\n",
              "      background-color: #E8F0FE;\n",
              "      border: none;\n",
              "      border-radius: 50%;\n",
              "      cursor: pointer;\n",
              "      display: none;\n",
              "      fill: #1967D2;\n",
              "      height: 32px;\n",
              "      padding: 0 0 0 0;\n",
              "      width: 32px;\n",
              "    }\n",
              "\n",
              "    .colab-df-convert:hover {\n",
              "      background-color: #E2EBFA;\n",
              "      box-shadow: 0px 1px 2px rgba(60, 64, 67, 0.3), 0px 1px 3px 1px rgba(60, 64, 67, 0.15);\n",
              "      fill: #174EA6;\n",
              "    }\n",
              "\n",
              "    [theme=dark] .colab-df-convert {\n",
              "      background-color: #3B4455;\n",
              "      fill: #D2E3FC;\n",
              "    }\n",
              "\n",
              "    [theme=dark] .colab-df-convert:hover {\n",
              "      background-color: #434B5C;\n",
              "      box-shadow: 0px 1px 3px 1px rgba(0, 0, 0, 0.15);\n",
              "      filter: drop-shadow(0px 1px 2px rgba(0, 0, 0, 0.3));\n",
              "      fill: #FFFFFF;\n",
              "    }\n",
              "  </style>\n",
              "\n",
              "      <script>\n",
              "        const buttonEl =\n",
              "          document.querySelector('#df-bb313865-f6a9-47da-80ab-abc31a90b90b button.colab-df-convert');\n",
              "        buttonEl.style.display =\n",
              "          google.colab.kernel.accessAllowed ? 'block' : 'none';\n",
              "\n",
              "        async function convertToInteractive(key) {\n",
              "          const element = document.querySelector('#df-bb313865-f6a9-47da-80ab-abc31a90b90b');\n",
              "          const dataTable =\n",
              "            await google.colab.kernel.invokeFunction('convertToInteractive',\n",
              "                                                     [key], {});\n",
              "          if (!dataTable) return;\n",
              "\n",
              "          const docLinkHtml = 'Like what you see? Visit the ' +\n",
              "            '<a target=\"_blank\" href=https://colab.research.google.com/notebooks/data_table.ipynb>data table notebook</a>'\n",
              "            + ' to learn more about interactive tables.';\n",
              "          element.innerHTML = '';\n",
              "          dataTable['output_type'] = 'display_data';\n",
              "          await google.colab.output.renderOutput(dataTable, element);\n",
              "          const docLink = document.createElement('div');\n",
              "          docLink.innerHTML = docLinkHtml;\n",
              "          element.appendChild(docLink);\n",
              "        }\n",
              "      </script>\n",
              "    </div>\n",
              "  </div>\n",
              "  "
            ],
            "text/plain": [
              "     OBJECTID       NAME County Name STATE_NAME State  STATE_FIPS  CNTY_FIPS  \\\n",
              "19        703   Cleburne    cleburne   Arkansas    AR           5         23   \n",
              "20        929      Boone       boone   Arkansas    AR           5          9   \n",
              "21        936      Cross       cross   Arkansas    AR           5         37   \n",
              "22       1285     Searcy      searcy   Arkansas    AR           5        129   \n",
              "23       1307   Columbia    columbia   Arkansas    AR           5         27   \n",
              "..        ...        ...         ...        ...   ...         ...        ...   \n",
              "793      3129    Cameron     cameron      Texas    TX          48         61   \n",
              "794      3131  Matagorda   matagorda      Texas    TX          48        321   \n",
              "795      3153     Nueces      nueces      Texas    TX          48        355   \n",
              "796      3157    Aransas     aransas      Texas    TX          48          7   \n",
              "797      3161    Calhoun     calhoun      Texas    TX          48         57   \n",
              "\n",
              "      FIPS  IECC Climate Zone IECC Moisture Regime BA Climate Zone  \\\n",
              "19    5023                  3                    A     Mixed-Humid   \n",
              "20    5009                  4                    A     Mixed-Humid   \n",
              "21    5037                  3                    A     Mixed-Humid   \n",
              "22    5129                  4                    A     Mixed-Humid   \n",
              "23    5027                  3                    A       Hot-Humid   \n",
              "..     ...                ...                  ...             ...   \n",
              "793  48061                  2                    A       Hot-Humid   \n",
              "794  48321                  2                    A       Hot-Humid   \n",
              "795  48355                  2                    A       Hot-Humid   \n",
              "796  48007                  2                    A       Hot-Humid   \n",
              "797  48057                  2                    A       Hot-Humid   \n",
              "\n",
              "            Temp  Num_Pharmacies IECC_Zone  \n",
              "19    591.920155               7        3A  \n",
              "20    601.756172               7        4A  \n",
              "21    622.348691               5        3A  \n",
              "22    668.532626               2        4A  \n",
              "23    766.630310               5        3A  \n",
              "..           ...             ...       ...  \n",
              "793   949.719526              73        2A  \n",
              "794  1140.332862               8        2A  \n",
              "795   844.128000              55        2A  \n",
              "796   263.740586               4        2A  \n",
              "797   544.774106               4        2A  \n",
              "\n",
              "[778 rows x 14 columns]"
            ]
          },
          "execution_count": 110,
          "metadata": {},
          "output_type": "execute_result"
        }
      ],
      "source": [
        "# Drop rows with missing values\n",
        "pharmacy_count_climate=pharmacy_count_climate.dropna()\n",
        "pharmacy_count_climate"
      ]
    },
    {
      "cell_type": "markdown",
      "metadata": {
        "id": "JGgKb0a3bDqo"
      },
      "source": [
        "Splitting into test and train sets"
      ]
    },
    {
      "cell_type": "code",
      "execution_count": 111,
      "metadata": {
        "id": "UheudJVSbDqq"
      },
      "outputs": [],
      "source": [
        "pharmacy_count_climate_train,pharmacy_count_climate_test=train_test_split(pharmacy_count_climate,train_size=0.7)"
      ]
    },
    {
      "cell_type": "code",
      "execution_count": 112,
      "metadata": {
        "colab": {
          "base_uri": "https://localhost:8080/"
        },
        "id": "wt8oNK1bbDqr",
        "outputId": "c5cb3e0d-aca4-4b0d-9630-428c7c9d07c1"
      },
      "outputs": [
        {
          "name": "stdout",
          "output_type": "stream",
          "text": [
            "(544, 14)\n",
            "(234, 14)\n"
          ]
        }
      ],
      "source": [
        "print(pharmacy_count_climate_train.shape)\n",
        "print(pharmacy_count_climate_test.shape)"
      ]
    },
    {
      "cell_type": "code",
      "execution_count": 115,
      "metadata": {
        "id": "9HUV3XfzdUd7"
      },
      "outputs": [],
      "source": [
        "feature_columns=['Num_Pharmacies']\n",
        "class_columns=['IECC_Zone']#,'IECC Climate Zone', 'IECC Moisture Regime', 'BA Climate Zone', 'Temp']"
      ]
    },
    {
      "cell_type": "code",
      "execution_count": 116,
      "metadata": {
        "id": "8s6Eyr2OdUd8"
      },
      "outputs": [],
      "source": [
        "x_train=pharmacy_count_climate_train[feature_columns].values\n",
        "x_test=pharmacy_count_climate_test[feature_columns].values\n",
        "\n",
        "y_train=pharmacy_count_climate_train[class_columns].apply(lambda col: pd.factorize(col, sort=True)[0]).values\n",
        "y_test=pharmacy_count_climate_test[class_columns].apply(lambda col: pd.factorize(col, sort=True)[0]).values"
      ]
    },
    {
      "cell_type": "markdown",
      "metadata": {
        "id": "xZ_JYGPQgWzV"
      },
      "source": [
        "Decision Trees"
      ]
    },
    {
      "cell_type": "code",
      "execution_count": 117,
      "metadata": {
        "id": "lHxsEFccgWzZ"
      },
      "outputs": [],
      "source": [
        "from sklearn.tree import DecisionTreeClassifier"
      ]
    },
    {
      "cell_type": "code",
      "execution_count": 119,
      "metadata": {
        "id": "b4WELLkLgWzZ"
      },
      "outputs": [],
      "source": [
        "svm = make_pipeline(StandardScaler(), DecisionTreeClassifier())\n",
        "_=svm.fit(x_train,y_train)\n",
        "score=svm.score(x_test,y_test)"
      ]
    },
    {
      "cell_type": "code",
      "execution_count": 120,
      "metadata": {
        "colab": {
          "base_uri": "https://localhost:8080/"
        },
        "id": "Qv-npKVSgWzZ",
        "outputId": "1ae01f3a-e7ff-4ec3-ee51-a95693c9cc1e"
      },
      "outputs": [
        {
          "name": "stdout",
          "output_type": "stream",
          "text": [
            "0.1794871794871795\n"
          ]
        }
      ],
      "source": [
        "print(score)"
      ]
    },
    {
      "cell_type": "code",
      "execution_count": 122,
      "metadata": {
        "colab": {
          "base_uri": "https://localhost:8080/"
        },
        "id": "wu2kGwvXgWza",
        "outputId": "a70e9579-38e4-40f6-f7f1-1df9e588f1a4"
      },
      "outputs": [
        {
          "name": "stdout",
          "output_type": "stream",
          "text": [
            "depth = 2 : score = 0.23504273504273504\n"
          ]
        }
      ],
      "source": [
        "max_score=0\n",
        "depth=1\n",
        "# k is depth of decision tree\n",
        "for k in range(1,100):\n",
        "  tree = make_pipeline(StandardScaler(), DecisionTreeClassifier(max_depth=k))\n",
        "  _=tree.fit(x_train,y_train)\n",
        "  score=tree.score(x_test,y_test)\n",
        "  if score>max_score:\n",
        "    max_score=score\n",
        "    depth=k\n",
        "print(f\"depth = {depth} : score = {max_score}\")"
      ]
    },
    {
      "cell_type": "markdown",
      "metadata": {
        "id": "oqjOP-QDgWza"
      },
      "source": [
        "Random Forest"
      ]
    },
    {
      "cell_type": "code",
      "execution_count": 123,
      "metadata": {
        "id": "K5RdQfZKgWza"
      },
      "outputs": [],
      "source": [
        "from sklearn.ensemble import RandomForestClassifier"
      ]
    },
    {
      "cell_type": "code",
      "execution_count": 124,
      "metadata": {
        "colab": {
          "base_uri": "https://localhost:8080/"
        },
        "id": "yzESYbCXgWza",
        "outputId": "cea5f952-49f2-46a0-ec8d-33fba9453056"
      },
      "outputs": [
        {
          "name": "stdout",
          "output_type": "stream",
          "text": [
            "depth = 1 : score = 0.2264957264957265\n"
          ]
        }
      ],
      "source": [
        "max_score=0\n",
        "depth=1\n",
        "# k is depth of random forest\n",
        "for k in range(1,len(feature_columns)+1):\n",
        "  tree = make_pipeline(StandardScaler(), RandomForestClassifier(max_depth=k))\n",
        "  _=tree.fit(x_train,y_train.ravel())\n",
        "  score=tree.score(x_test,y_test.ravel())\n",
        "  if score>max_score:\n",
        "    max_score=score\n",
        "    depth=k\n",
        "print(f\"depth = {depth} : score = {max_score}\")"
      ]
    },
    {
      "cell_type": "markdown",
      "metadata": {
        "id": "4kmMIGQShk8i"
      },
      "source": [
        "Logistic Regression"
      ]
    },
    {
      "cell_type": "code",
      "execution_count": 125,
      "metadata": {
        "id": "Wu8C87qCdUd8"
      },
      "outputs": [],
      "source": [
        "from sklearn.linear_model import LogisticRegression"
      ]
    },
    {
      "cell_type": "code",
      "execution_count": 127,
      "metadata": {
        "colab": {
          "base_uri": "https://localhost:8080/"
        },
        "id": "_726KUyahDBA",
        "outputId": "5436438c-c223-4c31-9b72-0df688fadab2"
      },
      "outputs": [
        {
          "name": "stderr",
          "output_type": "stream",
          "text": [
            "/usr/local/lib/python3.7/dist-packages/sklearn/linear_model/_logistic.py:818: ConvergenceWarning: lbfgs failed to converge (status=1):\n",
            "STOP: TOTAL NO. of ITERATIONS REACHED LIMIT.\n",
            "\n",
            "Increase the number of iterations (max_iter) or scale the data as shown in:\n",
            "    https://scikit-learn.org/stable/modules/preprocessing.html\n",
            "Please also refer to the documentation for alternative solver options:\n",
            "    https://scikit-learn.org/stable/modules/linear_model.html#logistic-regression\n",
            "  extra_warning_msg=_LOGISTIC_SOLVER_CONVERGENCE_MSG,\n"
          ]
        },
        {
          "data": {
            "text/plain": [
              "0.2222222222222222"
            ]
          },
          "execution_count": 127,
          "metadata": {},
          "output_type": "execute_result"
        }
      ],
      "source": [
        "clf = LogisticRegression(random_state=0).fit(x_train, y_train.ravel())\n",
        "clf.score(x_test,y_test.ravel())"
      ]
    },
    {
      "cell_type": "markdown",
      "metadata": {
        "id": "bgf0bveVhnoa"
      },
      "source": [
        "```Logistic regression classifier fails to converge```"
      ]
    },
    {
      "cell_type": "markdown",
      "metadata": {
        "id": "Nr-eeIyRh2QM"
      },
      "source": [
        "Conclusion:\n",
        "\n",
        "*Using various classifiers, a maximum test score of 23.5% could be achieved which indicates that there is weak or no correlation between thee number of pharmacies in a county and its climate*"
      ]
    }
  ],
  "metadata": {
    "colab": {
      "authorship_tag": "ABX9TyMEQBTqxvKXv5hCjwTcFv7X",
      "collapsed_sections": [],
      "include_colab_link": true,
      "name": "CS6350_BigData_Project_SubProb_5.ipynb",
      "provenance": []
    },
    "kernelspec": {
      "display_name": "Python 3",
      "name": "python3"
    },
    "language_info": {
      "name": "python"
    }
  },
  "nbformat": 4,
  "nbformat_minor": 0
}
