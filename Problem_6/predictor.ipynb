{
 "cells": [
  {
   "cell_type": "markdown",
   "id": "d770d485",
   "metadata": {},
   "source": [
    "# Predictor based on population of the county, general health of the population, pharmacies per capita."
   ]
  },
  {
   "cell_type": "code",
   "execution_count": 1,
   "id": "77718b0e",
   "metadata": {},
   "outputs": [],
   "source": [
    "# import required libraries\n",
    "from sklearn.model_selection import train_test_split\n",
    "from sklearn.linear_model import LinearRegression\n",
    "from sklearn.tree import DecisionTreeRegressor\n",
    "from sklearn.preprocessing import StandardScaler\n",
    "from sklearn.metrics import mean_squared_error\n",
    "import pandas as pd\n",
    "scaler =StandardScaler()\n",
    "import seaborn as sns\n",
    "from sklearn.ensemble import GradientBoostingRegressor"
   ]
  },
  {
   "cell_type": "code",
   "execution_count": 3,
   "id": "27094516",
   "metadata": {},
   "outputs": [
    {
     "data": {
      "text/html": [
       "<div>\n",
       "<style scoped>\n",
       "    .dataframe tbody tr th:only-of-type {\n",
       "        vertical-align: middle;\n",
       "    }\n",
       "\n",
       "    .dataframe tbody tr th {\n",
       "        vertical-align: top;\n",
       "    }\n",
       "\n",
       "    .dataframe thead th {\n",
       "        text-align: right;\n",
       "    }\n",
       "</style>\n",
       "<table border=\"1\" class=\"dataframe\">\n",
       "  <thead>\n",
       "    <tr style=\"text-align: right;\">\n",
       "      <th></th>\n",
       "      <th>pop_2013</th>\n",
       "      <th>pop_2013_sqmi</th>\n",
       "      <th>median_age</th>\n",
       "      <th>num_households</th>\n",
       "      <th>avg_household_size</th>\n",
       "      <th>obesity_prevalence</th>\n",
       "      <th>diabetes</th>\n",
       "      <th>num_pharmacies</th>\n",
       "    </tr>\n",
       "  </thead>\n",
       "  <tbody>\n",
       "    <tr>\n",
       "      <th>0</th>\n",
       "      <td>300046</td>\n",
       "      <td>173.1</td>\n",
       "      <td>33.0</td>\n",
       "      <td>107332</td>\n",
       "      <td>2.64</td>\n",
       "      <td>69213</td>\n",
       "      <td>16977</td>\n",
       "      <td>51</td>\n",
       "    </tr>\n",
       "    <tr>\n",
       "      <th>1</th>\n",
       "      <td>2621</td>\n",
       "      <td>1.1</td>\n",
       "      <td>46.9</td>\n",
       "      <td>1149</td>\n",
       "      <td>2.18</td>\n",
       "      <td>552</td>\n",
       "      <td>152</td>\n",
       "      <td>1</td>\n",
       "    </tr>\n",
       "    <tr>\n",
       "      <th>2</th>\n",
       "      <td>32723</td>\n",
       "      <td>11.9</td>\n",
       "      <td>38.0</td>\n",
       "      <td>12187</td>\n",
       "      <td>2.49</td>\n",
       "      <td>6702</td>\n",
       "      <td>1589</td>\n",
       "      <td>7</td>\n",
       "    </tr>\n",
       "    <tr>\n",
       "      <th>3</th>\n",
       "      <td>103018</td>\n",
       "      <td>13.9</td>\n",
       "      <td>31.2</td>\n",
       "      <td>36441</td>\n",
       "      <td>2.56</td>\n",
       "      <td>22067</td>\n",
       "      <td>4594</td>\n",
       "      <td>13</td>\n",
       "    </tr>\n",
       "    <tr>\n",
       "      <th>4</th>\n",
       "      <td>97147</td>\n",
       "      <td>3.9</td>\n",
       "      <td>34.8</td>\n",
       "      <td>31824</td>\n",
       "      <td>2.75</td>\n",
       "      <td>25287</td>\n",
       "      <td>6372</td>\n",
       "      <td>9</td>\n",
       "    </tr>\n",
       "  </tbody>\n",
       "</table>\n",
       "</div>"
      ],
      "text/plain": [
       "   pop_2013  pop_2013_sqmi  median_age  num_households  avg_household_size  \\\n",
       "0    300046          173.1        33.0          107332                2.64   \n",
       "1      2621            1.1        46.9            1149                2.18   \n",
       "2     32723           11.9        38.0           12187                2.49   \n",
       "3    103018           13.9        31.2           36441                2.56   \n",
       "4     97147            3.9        34.8           31824                2.75   \n",
       "\n",
       "   obesity_prevalence  diabetes  num_pharmacies  \n",
       "0               69213     16977              51  \n",
       "1                 552       152               1  \n",
       "2                6702      1589               7  \n",
       "3               22067      4594              13  \n",
       "4               25287      6372               9  "
      ]
     },
     "execution_count": 3,
     "metadata": {},
     "output_type": "execute_result"
    }
   ],
   "source": [
    "# read the data needed for the prediction\n",
    "data_for_prediction = pd.read_csv('Complete_data_for_predictor.csv')\n",
    "data_for_prediction.head()"
   ]
  },
  {
   "cell_type": "code",
   "execution_count": 4,
   "id": "33e6fe6b",
   "metadata": {},
   "outputs": [],
   "source": [
    "# split columns as predictors and predicted\n",
    "x = data_for_prediction.drop(['num_pharmacies'], axis=1)\n",
    "y = pd.DataFrame(data_for_prediction['num_pharmacies'])\n",
    "# scale the X data\n",
    "x_scaled = scaler.fit_transform(x)"
   ]
  },
  {
   "cell_type": "code",
   "execution_count": 5,
   "id": "4738be20",
   "metadata": {},
   "outputs": [],
   "source": [
    "# split the data\n",
    "x_train, x_test, y_train, y_test = train_test_split(x_scaled, y, test_size=0.2, random_state=20)"
   ]
  },
  {
   "cell_type": "code",
   "execution_count": 34,
   "id": "e0329213",
   "metadata": {},
   "outputs": [
    {
     "name": "stdout",
     "output_type": "stream",
     "text": [
      "RMSE:  31.06935755178896\n",
      "RMSE:  34.90427726552394\n",
      "RMSE:  31.18907131380187\n"
     ]
    },
    {
     "name": "stderr",
     "output_type": "stream",
     "text": [
      "/Users/ravirajch/opt/anaconda3/lib/python3.8/site-packages/sklearn/utils/validation.py:63: DataConversionWarning: A column-vector y was passed when a 1d array was expected. Please change the shape of y to (n_samples, ), for example using ravel().\n",
      "  return f(*args, **kwargs)\n"
     ]
    }
   ],
   "source": [
    "# try different models and get their RMSE\n",
    "# model = LinearRegression()\n",
    "# model = DecisionTreeRegressor()\n",
    "# model = GradientBoostingRegressor()\n",
    "\n",
    "# Run to check the differences\n",
    "'''\n",
    "for model_class in (LinearRegression(), DecisionTreeRegressor(), GradientBoostingRegressor()):\n",
    "    model = model_class\n",
    "    model.fit(x_train, y_train)\n",
    "    y_pred = model.predict(x_test)\n",
    "    print('RMSE: ', mean_squared_error(y_test, y_pred, squared=False))\n",
    "'''"
   ]
  },
  {
   "cell_type": "code",
   "execution_count": 47,
   "id": "0c819b88",
   "metadata": {},
   "outputs": [
    {
     "name": "stdout",
     "output_type": "stream",
     "text": [
      "RMSE:  31.092963350918815\n"
     ]
    },
    {
     "name": "stderr",
     "output_type": "stream",
     "text": [
      "/Users/ravirajch/opt/anaconda3/lib/python3.8/site-packages/sklearn/utils/validation.py:63: DataConversionWarning: A column-vector y was passed when a 1d array was expected. Please change the shape of y to (n_samples, ), for example using ravel().\n",
      "  return f(*args, **kwargs)\n"
     ]
    }
   ],
   "source": [
    "# Start the model training and get the results\n",
    "model = GradientBoostingRegressor()\n",
    "model.fit(x_train, y_train)\n",
    "y_pred = model.predict(x_test)\n",
    "print('RMSE: ', mean_squared_error(y_test, y_pred, squared=False))\n",
    "# y_pred_flat = [round(x[0]) for x in y_pred]\n",
    "y_pred_flat = [round(x) for x in y_pred]\n",
    "y_test_flat = y_test['num_pharmacies'].tolist()"
   ]
  },
  {
   "cell_type": "code",
   "execution_count": 48,
   "id": "8abf1a16",
   "metadata": {},
   "outputs": [
    {
     "data": {
      "text/html": [
       "<div>\n",
       "<style scoped>\n",
       "    .dataframe tbody tr th:only-of-type {\n",
       "        vertical-align: middle;\n",
       "    }\n",
       "\n",
       "    .dataframe tbody tr th {\n",
       "        vertical-align: top;\n",
       "    }\n",
       "\n",
       "    .dataframe thead th {\n",
       "        text-align: right;\n",
       "    }\n",
       "</style>\n",
       "<table border=\"1\" class=\"dataframe\">\n",
       "  <thead>\n",
       "    <tr style=\"text-align: right;\">\n",
       "      <th></th>\n",
       "      <th>predicted</th>\n",
       "      <th>actual</th>\n",
       "      <th>difference</th>\n",
       "    </tr>\n",
       "  </thead>\n",
       "  <tbody>\n",
       "    <tr>\n",
       "      <th>0</th>\n",
       "      <td>4</td>\n",
       "      <td>5</td>\n",
       "      <td>1</td>\n",
       "    </tr>\n",
       "    <tr>\n",
       "      <th>1</th>\n",
       "      <td>3</td>\n",
       "      <td>1</td>\n",
       "      <td>2</td>\n",
       "    </tr>\n",
       "    <tr>\n",
       "      <th>2</th>\n",
       "      <td>3</td>\n",
       "      <td>4</td>\n",
       "      <td>1</td>\n",
       "    </tr>\n",
       "    <tr>\n",
       "      <th>3</th>\n",
       "      <td>2</td>\n",
       "      <td>1</td>\n",
       "      <td>1</td>\n",
       "    </tr>\n",
       "    <tr>\n",
       "      <th>4</th>\n",
       "      <td>4</td>\n",
       "      <td>3</td>\n",
       "      <td>1</td>\n",
       "    </tr>\n",
       "  </tbody>\n",
       "</table>\n",
       "</div>"
      ],
      "text/plain": [
       "   predicted  actual  difference\n",
       "0          4       5           1\n",
       "1          3       1           2\n",
       "2          3       4           1\n",
       "3          2       1           1\n",
       "4          4       3           1"
      ]
     },
     "execution_count": 48,
     "metadata": {},
     "output_type": "execute_result"
    }
   ],
   "source": [
    "# calculate the differences and get the result for test dataset\n",
    "results = pd.DataFrame([y_pred_flat,y_test_flat]).T.rename(columns={0:'predicted',1:'actual'})\n",
    "results['difference'] = abs(results['predicted']-results['actual'])\n",
    "results.head()"
   ]
  },
  {
   "cell_type": "code",
   "execution_count": 49,
   "id": "fe5746c7",
   "metadata": {},
   "outputs": [
    {
     "data": {
      "text/plain": [
       "1     53\n",
       "2     34\n",
       "0     27\n",
       "3      8\n",
       "6      8\n",
       "4      4\n",
       "5      3\n",
       "7      3\n",
       "8      1\n",
       "10     1\n",
       "Name: difference, dtype: int64"
      ]
     },
     "execution_count": 49,
     "metadata": {},
     "output_type": "execute_result"
    }
   ],
   "source": [
    "# get value counts of the values in test set\n",
    "results[results['difference']<11].difference.value_counts()"
   ]
  },
  {
   "cell_type": "code",
   "execution_count": 52,
   "id": "f6e16a0c",
   "metadata": {},
   "outputs": [
    {
     "data": {
      "text/html": [
       "<div>\n",
       "<style scoped>\n",
       "    .dataframe tbody tr th:only-of-type {\n",
       "        vertical-align: middle;\n",
       "    }\n",
       "\n",
       "    .dataframe tbody tr th {\n",
       "        vertical-align: top;\n",
       "    }\n",
       "\n",
       "    .dataframe thead th {\n",
       "        text-align: right;\n",
       "    }\n",
       "</style>\n",
       "<table border=\"1\" class=\"dataframe\">\n",
       "  <thead>\n",
       "    <tr style=\"text-align: right;\">\n",
       "      <th></th>\n",
       "      <th>predicted</th>\n",
       "      <th>actual</th>\n",
       "      <th>difference</th>\n",
       "    </tr>\n",
       "  </thead>\n",
       "  <tbody>\n",
       "    <tr>\n",
       "      <th>0</th>\n",
       "      <td>52</td>\n",
       "      <td>51</td>\n",
       "      <td>1</td>\n",
       "    </tr>\n",
       "    <tr>\n",
       "      <th>1</th>\n",
       "      <td>2</td>\n",
       "      <td>1</td>\n",
       "      <td>1</td>\n",
       "    </tr>\n",
       "    <tr>\n",
       "      <th>2</th>\n",
       "      <td>7</td>\n",
       "      <td>7</td>\n",
       "      <td>0</td>\n",
       "    </tr>\n",
       "    <tr>\n",
       "      <th>3</th>\n",
       "      <td>16</td>\n",
       "      <td>13</td>\n",
       "      <td>3</td>\n",
       "    </tr>\n",
       "    <tr>\n",
       "      <th>4</th>\n",
       "      <td>14</td>\n",
       "      <td>9</td>\n",
       "      <td>5</td>\n",
       "    </tr>\n",
       "  </tbody>\n",
       "</table>\n",
       "</div>"
      ],
      "text/plain": [
       "   predicted  actual  difference\n",
       "0         52      51           1\n",
       "1          2       1           1\n",
       "2          7       7           0\n",
       "3         16      13           3\n",
       "4         14       9           5"
      ]
     },
     "execution_count": 52,
     "metadata": {},
     "output_type": "execute_result"
    }
   ],
   "source": [
    "# repeat the same for the FULL DATA\n",
    "y_full_preds = model.predict(x_scaled)\n",
    "# y_full_pred_flat = [round(x[0]) for x in y_pred]\n",
    "y_full_pred_flat = [round(x) for x in y_full_preds]\n",
    "y_full_test_flat = y['num_pharmacies'].tolist()\n",
    "full_results = pd.DataFrame([y_full_pred_flat,y_full_test_flat]).T.rename(columns={0:'predicted',1:'actual'})\n",
    "full_results['difference'] = abs(full_results['predicted']-full_results['actual'])\n",
    "full_results.head()"
   ]
  },
  {
   "cell_type": "code",
   "execution_count": 53,
   "id": "16ca88bd",
   "metadata": {},
   "outputs": [
    {
     "name": "stdout",
     "output_type": "stream",
     "text": [
      "RMSE:  15.765159168222038\n"
     ]
    }
   ],
   "source": [
    "# calculate RMSE\n",
    "print('RMSE: ', mean_squared_error(y, y_full_preds, squared=False))"
   ]
  },
  {
   "cell_type": "code",
   "execution_count": 55,
   "id": "04e3e0f6",
   "metadata": {},
   "outputs": [
    {
     "data": {
      "text/plain": [
       "1    284\n",
       "0    164\n",
       "2    138\n",
       "3     59\n",
       "4     32\n",
       "5     20\n",
       "6     18\n",
       "7     17\n",
       "8     14\n",
       "9      5\n",
       "Name: difference, dtype: int64"
      ]
     },
     "execution_count": 55,
     "metadata": {},
     "output_type": "execute_result"
    }
   ],
   "source": [
    "full_results[full_results['difference']<10].difference.value_counts()"
   ]
  },
  {
   "cell_type": "code",
   "execution_count": 56,
   "id": "1fcb68d1",
   "metadata": {},
   "outputs": [],
   "source": [
    "full_results.to_csv('ensemble_res.csv', index=False)"
   ]
  },
  {
   "cell_type": "code",
   "execution_count": 57,
   "id": "5b93ca58",
   "metadata": {},
   "outputs": [
    {
     "data": {
      "text/plain": [
       "(875, 4)"
      ]
     },
     "execution_count": 57,
     "metadata": {},
     "output_type": "execute_result"
    }
   ],
   "source": [
    "full_results.shape"
   ]
  },
  {
   "cell_type": "code",
   "execution_count": null,
   "id": "68a03022",
   "metadata": {},
   "outputs": [],
   "source": []
  }
 ],
 "metadata": {
  "interpreter": {
   "hash": "d481068bb642fc6fdae5ba0387695b2ec173df58bac01dfc79b6151ca02af613"
  },
  "kernelspec": {
   "display_name": "Python 3.8.8 ('base')",
   "language": "python",
   "name": "python3"
  },
  "language_info": {
   "codemirror_mode": {
    "name": "ipython",
    "version": 3
   },
   "file_extension": ".py",
   "mimetype": "text/x-python",
   "name": "python",
   "nbconvert_exporter": "python",
   "pygments_lexer": "ipython3",
   "version": "3.8.8"
  }
 },
 "nbformat": 4,
 "nbformat_minor": 5
}
