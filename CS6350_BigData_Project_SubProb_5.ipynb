{
  "nbformat": 4,
  "nbformat_minor": 0,
  "metadata": {
    "colab": {
      "name": "CS6350_BigData_Project_SubProb_5.ipynb",
      "provenance": [],
      "collapsed_sections": [],
      "authorship_tag": "ABX9TyNWMutTFWzp4zOlJD9vl7n8",
      "include_colab_link": true
    },
    "kernelspec": {
      "name": "python3",
      "display_name": "Python 3"
    },
    "language_info": {
      "name": "python"
    }
  },
  "cells": [
    {
      "cell_type": "markdown",
      "metadata": {
        "id": "view-in-github",
        "colab_type": "text"
      },
      "source": [
        "<a href=\"https://colab.research.google.com/github/ravi-raj-97/big_data_pharmacy_county/blob/ashish/CS6350_BigData_Project_SubProb_5.ipynb\" target=\"_parent\"><img src=\"https://colab.research.google.com/assets/colab-badge.svg\" alt=\"Open In Colab\"/></a>"
      ]
    },
    {
      "cell_type": "markdown",
      "source": [
        "## ***Sub-problem 5:*** Correlation between the general climate of a county with the health of its population and availability of pharmacies."
      ],
      "metadata": {
        "id": "15GJ4MyfQ8O9"
      }
    },
    {
      "cell_type": "markdown",
      "source": [
        "Get Files"
      ],
      "metadata": {
        "id": "vA7NErnMO3rx"
      }
    },
    {
      "cell_type": "code",
      "execution_count": 1,
      "metadata": {
        "colab": {
          "base_uri": "https://localhost:8080/"
        },
        "id": "-wUNrCH8L_q5",
        "outputId": "baf57461-16c6-4e84-82db-ee872066b6fe"
      },
      "outputs": [
        {
          "output_type": "stream",
          "name": "stdout",
          "text": [
            "--2022-04-24 19:10:02--  https://raw.githubusercontent.com/ravi-raj-97/big_data_pharmacy_county/main/Pharmacy-County.xlsx\n",
            "Resolving raw.githubusercontent.com (raw.githubusercontent.com)... 185.199.108.133, 185.199.111.133, 185.199.109.133, ...\n",
            "Connecting to raw.githubusercontent.com (raw.githubusercontent.com)|185.199.108.133|:443... connected.\n",
            "HTTP request sent, awaiting response... 200 OK\n",
            "Length: 2173314 (2.1M) [application/octet-stream]\n",
            "Saving to: ‘Pharmacy-County.xlsx’\n",
            "\n",
            "Pharmacy-County.xls 100%[===================>]   2.07M  --.-KB/s    in 0.06s   \n",
            "\n",
            "2022-04-24 19:10:03 (32.1 MB/s) - ‘Pharmacy-County.xlsx’ saved [2173314/2173314]\n",
            "\n",
            "--2022-04-24 19:10:03--  https://raw.githubusercontent.com/ravi-raj-97/big_data_pharmacy_county/main/Demography_USA.xlsx\n",
            "Resolving raw.githubusercontent.com (raw.githubusercontent.com)... 185.199.108.133, 185.199.109.133, 185.199.110.133, ...\n",
            "Connecting to raw.githubusercontent.com (raw.githubusercontent.com)|185.199.108.133|:443... connected.\n",
            "HTTP request sent, awaiting response... 200 OK\n",
            "Length: 2220190 (2.1M) [application/octet-stream]\n",
            "Saving to: ‘Demography_USA.xlsx’\n",
            "\n",
            "Demography_USA.xlsx 100%[===================>]   2.12M  --.-KB/s    in 0.06s   \n",
            "\n",
            "2022-04-24 19:10:03 (34.8 MB/s) - ‘Demography_USA.xlsx’ saved [2220190/2220190]\n",
            "\n"
          ]
        }
      ],
      "source": [
        "!wget -nc https://raw.githubusercontent.com/ravi-raj-97/big_data_pharmacy_county/main/Pharmacy-County.xlsx\n",
        "!wget -nc https://raw.githubusercontent.com/ravi-raj-97/big_data_pharmacy_county/main/Demography_USA.xlsx"
      ]
    },
    {
      "cell_type": "markdown",
      "source": [
        "Form dataframes"
      ],
      "metadata": {
        "id": "4ioAHLUkO_k5"
      }
    },
    {
      "cell_type": "code",
      "source": [
        "import pandas as pd"
      ],
      "metadata": {
        "id": "OV731OBEMee2"
      },
      "execution_count": 2,
      "outputs": []
    },
    {
      "cell_type": "code",
      "source": [
        "pharmacy_county=pd.ExcelFile(\"Pharmacy-County.xlsx\")\n",
        "demography_usa=pd.ExcelFile(\"Demography_USA.xlsx\")"
      ],
      "metadata": {
        "id": "jbV0XOpbNfyg"
      },
      "execution_count": 3,
      "outputs": []
    },
    {
      "cell_type": "code",
      "source": [
        "pharmacy_county.sheet_names[0:5]"
      ],
      "metadata": {
        "colab": {
          "base_uri": "https://localhost:8080/"
        },
        "id": "MGgZ7DCtOY7H",
        "outputId": "5462a2c9-6f70-4dd9-88cd-ef968dc6373a"
      },
      "execution_count": 4,
      "outputs": [
        {
          "output_type": "execute_result",
          "data": {
            "text/plain": [
              "['Alaska', 'Arkansas', 'California', 'Colarado', 'Connecticut']"
            ]
          },
          "metadata": {},
          "execution_count": 4
        }
      ]
    },
    {
      "cell_type": "code",
      "source": [
        "demography_usa.sheet_names[:6]"
      ],
      "metadata": {
        "colab": {
          "base_uri": "https://localhost:8080/"
        },
        "id": "uULYj6j1OkDs",
        "outputId": "47221604-ac5c-467f-bbb8-148e96ede24b"
      },
      "execution_count": 5,
      "outputs": [
        {
          "output_type": "execute_result",
          "data": {
            "text/plain": [
              "['Demography USA', 'Population', 'Housing', 'Households', 'Ages', 'Genders']"
            ]
          },
          "metadata": {},
          "execution_count": 5
        }
      ]
    },
    {
      "cell_type": "code",
      "source": [
        "pharmacy_county_statewise={}\n",
        "\n",
        "for state in pharmacy_county.sheet_names:\n",
        "  pharmacy_county_statewise[state]=pd.io.excel.ExcelFile.parse(pharmacy_county, state).drop(0)"
      ],
      "metadata": {
        "id": "jRAnZac_OykH"
      },
      "execution_count": 6,
      "outputs": []
    },
    {
      "cell_type": "code",
      "source": [
        "pharmacy_county_statewise.keys()"
      ],
      "metadata": {
        "colab": {
          "base_uri": "https://localhost:8080/"
        },
        "id": "kvafLqEzQOPd",
        "outputId": "b100a06c-f6f2-4e66-bb81-1d8b09732684"
      },
      "execution_count": 7,
      "outputs": [
        {
          "output_type": "execute_result",
          "data": {
            "text/plain": [
              "dict_keys(['Alaska', 'Arkansas', 'California', 'Colarado', 'Connecticut', 'Delaware', 'Flordia', 'Hawaii', 'Idaho', 'Kansas', 'Maine', 'Maryland', 'Massachusetts', 'Michigan', 'Missouri', 'Montana', 'Nebraska', 'Nevada', 'New Jersey', 'North Carolina', 'North Dakota', 'Oklahoma', 'Oregon', 'Rhode island', 'South Dakota', 'Tennessee', 'Texas', 'Utah', 'Vermont', 'Wisconsin', 'Other State'])"
            ]
          },
          "metadata": {},
          "execution_count": 7
        }
      ]
    },
    {
      "cell_type": "code",
      "source": [
        "demography_usa_categories={}\n",
        "\n",
        "demography_usa_categories['Climate']=pd.io.excel.ExcelFile.parse(demography_usa, 'Demography USA')\n",
        "demography_usa_categories['Population']=pd.io.excel.ExcelFile.parse(demography_usa, 'Population')\n",
        "demography_usa_categories['Diseases']=pd.io.excel.ExcelFile.parse(demography_usa, 'Diseases')"
      ],
      "metadata": {
        "id": "4tFDh4qVQoBo"
      },
      "execution_count": 8,
      "outputs": []
    },
    {
      "cell_type": "code",
      "source": [
        "demography_usa_categories.keys()"
      ],
      "metadata": {
        "id": "VsJY6osLSCMv",
        "outputId": "5ba9a017-0d98-4bae-ddb3-fd83478f5933",
        "colab": {
          "base_uri": "https://localhost:8080/"
        }
      },
      "execution_count": 9,
      "outputs": [
        {
          "output_type": "execute_result",
          "data": {
            "text/plain": [
              "dict_keys(['Climate', 'Population', 'Diseases'])"
            ]
          },
          "metadata": {},
          "execution_count": 9
        }
      ]
    },
    {
      "cell_type": "markdown",
      "source": [
        "\n",
        "\n",
        "---\n",
        "\n",
        "## 1. Correlation between the general climate of a county with the health of its population"
      ],
      "metadata": {
        "id": "hvbfkW0P0BGd"
      }
    },
    {
      "cell_type": "code",
      "source": [
        "import numpy as np\n",
        "from sklearn.pipeline import make_pipeline\n",
        "from sklearn.preprocessing import StandardScaler\n",
        "from sklearn.svm import SVC\n",
        "from sklearn.model_selection import train_test_split\n",
        "from sklearn.decomposition import PCA"
      ],
      "metadata": {
        "id": "zZmGF4GGkfne"
      },
      "execution_count": 44,
      "outputs": []
    },
    {
      "cell_type": "markdown",
      "source": [
        "Create joined dataframe and splitting into test and train sets"
      ],
      "metadata": {
        "id": "2VNCQvIj-X77"
      }
    },
    {
      "cell_type": "code",
      "source": [
        "print(demography_usa_categories['Diseases'].shape)\n",
        "print(demography_usa_categories['Climate'].shape)"
      ],
      "metadata": {
        "colab": {
          "base_uri": "https://localhost:8080/"
        },
        "id": "1VRHoMEcCPP-",
        "outputId": "102a22f8-ca50-4af5-86ca-f7990628dcd5"
      },
      "execution_count": 31,
      "outputs": [
        {
          "output_type": "stream",
          "name": "stdout",
          "text": [
            "(3219, 16)\n",
            "(3219, 12)\n"
          ]
        }
      ]
    },
    {
      "cell_type": "code",
      "source": [
        "demography_disease_climate=demography_usa_categories['Diseases'].merge(demography_usa_categories['Climate'],on=['OBJECTID'],how='inner',suffixes=('', '_y'))\n",
        "demography_disease_climate.drop(demography_disease_climate.filter(regex='_y$').columns.tolist(),axis=1, inplace=True)"
      ],
      "metadata": {
        "id": "v9mu6z1L-V0a"
      },
      "execution_count": 24,
      "outputs": []
    },
    {
      "cell_type": "code",
      "source": [
        "demography_disease_climate.shape"
      ],
      "metadata": {
        "colab": {
          "base_uri": "https://localhost:8080/"
        },
        "id": "LAQnULg1_TPc",
        "outputId": "6065bb16-4f46-445c-827f-69f58e154799"
      },
      "execution_count": 30,
      "outputs": [
        {
          "output_type": "execute_result",
          "data": {
            "text/plain": [
              "(3219, 23)"
            ]
          },
          "metadata": {},
          "execution_count": 30
        }
      ]
    },
    {
      "cell_type": "code",
      "source": [
        "demography_disease_climate['IECC_Zone']=demography_disease_climate['IECC Climate Zone'].astype(str)+demography_disease_climate['IECC Moisture Regime']"
      ],
      "metadata": {
        "id": "X6pLhEWZIRdj"
      },
      "execution_count": 38,
      "outputs": []
    },
    {
      "cell_type": "code",
      "source": [
        "demography_disease_climate.shape"
      ],
      "metadata": {
        "colab": {
          "base_uri": "https://localhost:8080/"
        },
        "id": "Co9VCQqgIrDB",
        "outputId": "e24bc4e5-29d0-481e-fac9-869a8b1d1b33"
      },
      "execution_count": 39,
      "outputs": [
        {
          "output_type": "execute_result",
          "data": {
            "text/plain": [
              "(3219, 24)"
            ]
          },
          "metadata": {},
          "execution_count": 39
        }
      ]
    },
    {
      "cell_type": "code",
      "source": [
        "demography_disease_climate_train,demography_disease_climate_test=train_test_split(demography_disease_climate,train_size=0.7)"
      ],
      "metadata": {
        "id": "Yo3LPe2FCYT3"
      },
      "execution_count": 40,
      "outputs": []
    },
    {
      "cell_type": "code",
      "source": [
        "print(demography_disease_climate_train.shape)\n",
        "print(demography_disease_climate_test.shape)"
      ],
      "metadata": {
        "colab": {
          "base_uri": "https://localhost:8080/"
        },
        "id": "bqasnETnC1fY",
        "outputId": "642e268f-1863-439d-c42e-833c0cbf053a"
      },
      "execution_count": 41,
      "outputs": [
        {
          "output_type": "stream",
          "name": "stdout",
          "text": [
            "(2253, 24)\n",
            "(966, 24)\n"
          ]
        }
      ]
    },
    {
      "cell_type": "markdown",
      "source": [
        "Preprocess"
      ],
      "metadata": {
        "id": "zBvHsC83F2Qh"
      }
    },
    {
      "cell_type": "code",
      "source": [
        "feature_columns=['Prevalence of obesity', 'Hypertension', 'Diabetes', 'CVD', 'HIV/AIDS', 'cvd_100k', 'hypertension_100k']\n",
        "class_columns=['IECC_Zone']#,'IECC Climate Zone', 'IECC Moisture Regime', 'BA Climate Zone', 'Temp']"
      ],
      "metadata": {
        "id": "JIpY4Qy4F6rp"
      },
      "execution_count": 52,
      "outputs": []
    },
    {
      "cell_type": "code",
      "source": [
        "x_train=demography_disease_climate_train[feature_columns].values\n",
        "x_test=demography_disease_climate_test[feature_columns].values\n",
        "\n",
        "y_train=demography_disease_climate_train[class_columns].apply(lambda col: pd.factorize(col, sort=True)[0]).values\n",
        "y_test=demography_disease_climate_test[class_columns].apply(lambda col: pd.factorize(col, sort=True)[0]).values"
      ],
      "metadata": {
        "id": "wZ5zRD7EG69X"
      },
      "execution_count": 57,
      "outputs": []
    },
    {
      "cell_type": "code",
      "source": [
        "y_train"
      ],
      "metadata": {
        "colab": {
          "base_uri": "https://localhost:8080/"
        },
        "id": "Ua8lug2bK6Gf",
        "outputId": "9a4e39a0-2af0-48ae-825a-7877e8150ce9"
      },
      "execution_count": 58,
      "outputs": [
        {
          "output_type": "execute_result",
          "data": {
            "text/plain": [
              "array([[ 6],\n",
              "       [ 9],\n",
              "       [ 1],\n",
              "       ...,\n",
              "       [ 6],\n",
              "       [11],\n",
              "       [ 6]])"
            ]
          },
          "metadata": {},
          "execution_count": 58
        }
      ]
    },
    {
      "cell_type": "markdown",
      "source": [
        "Using SVM"
      ],
      "metadata": {
        "id": "nM-kZbqK-emg"
      }
    },
    {
      "cell_type": "code",
      "source": [
        "result_string=[]\n",
        "for k in range(1,len(feature_columns)+1):\n",
        "  svm = make_pipeline(StandardScaler(), PCA(n_components=k), SVC(gamma='auto'),)\n",
        "  _=svm.fit(x_train,y_train)\n",
        "  score=svm.score(x_test,y_test)\n",
        "  result_string.append(f\"num_features = {k} : {score}\")"
      ],
      "metadata": {
        "id": "E-2t92R3Lkx7",
        "colab": {
          "base_uri": "https://localhost:8080/"
        },
        "outputId": "3ed7b293-ca43-43d1-e9ab-2cfa51fd6d97"
      },
      "execution_count": 91,
      "outputs": [
        {
          "output_type": "stream",
          "name": "stderr",
          "text": [
            "/usr/local/lib/python3.7/dist-packages/sklearn/utils/validation.py:993: DataConversionWarning: A column-vector y was passed when a 1d array was expected. Please change the shape of y to (n_samples, ), for example using ravel().\n",
            "  y = column_or_1d(y, warn=True)\n",
            "/usr/local/lib/python3.7/dist-packages/sklearn/utils/validation.py:993: DataConversionWarning: A column-vector y was passed when a 1d array was expected. Please change the shape of y to (n_samples, ), for example using ravel().\n",
            "  y = column_or_1d(y, warn=True)\n",
            "/usr/local/lib/python3.7/dist-packages/sklearn/utils/validation.py:993: DataConversionWarning: A column-vector y was passed when a 1d array was expected. Please change the shape of y to (n_samples, ), for example using ravel().\n",
            "  y = column_or_1d(y, warn=True)\n",
            "/usr/local/lib/python3.7/dist-packages/sklearn/utils/validation.py:993: DataConversionWarning: A column-vector y was passed when a 1d array was expected. Please change the shape of y to (n_samples, ), for example using ravel().\n",
            "  y = column_or_1d(y, warn=True)\n",
            "/usr/local/lib/python3.7/dist-packages/sklearn/utils/validation.py:993: DataConversionWarning: A column-vector y was passed when a 1d array was expected. Please change the shape of y to (n_samples, ), for example using ravel().\n",
            "  y = column_or_1d(y, warn=True)\n",
            "/usr/local/lib/python3.7/dist-packages/sklearn/utils/validation.py:993: DataConversionWarning: A column-vector y was passed when a 1d array was expected. Please change the shape of y to (n_samples, ), for example using ravel().\n",
            "  y = column_or_1d(y, warn=True)\n",
            "/usr/local/lib/python3.7/dist-packages/sklearn/utils/validation.py:993: DataConversionWarning: A column-vector y was passed when a 1d array was expected. Please change the shape of y to (n_samples, ), for example using ravel().\n",
            "  y = column_or_1d(y, warn=True)\n"
          ]
        }
      ]
    },
    {
      "cell_type": "code",
      "source": [
        "for result in result_string:\n",
        "  print(result)"
      ],
      "metadata": {
        "colab": {
          "base_uri": "https://localhost:8080/"
        },
        "id": "guZ5qgCwMRoz",
        "outputId": "ce2ec056-5a16-43b3-d32c-7b9438d2be56"
      },
      "execution_count": 92,
      "outputs": [
        {
          "output_type": "stream",
          "name": "stdout",
          "text": [
            "num_features = 1 : 0.2329192546583851\n",
            "num_features = 2 : 0.2587991718426501\n",
            "num_features = 3 : 0.3250517598343685\n",
            "num_features = 4 : 0.37267080745341613\n",
            "num_features = 5 : 0.36438923395445133\n",
            "num_features = 6 : 0.35714285714285715\n",
            "num_features = 7 : 0.34886128364389235\n"
          ]
        }
      ]
    },
    {
      "cell_type": "markdown",
      "source": [
        "Decision Trees"
      ],
      "metadata": {
        "id": "aPfEsNWEMk9l"
      }
    },
    {
      "cell_type": "code",
      "source": [
        "from sklearn.tree import DecisionTreeClassifier"
      ],
      "metadata": {
        "id": "-xKdt0A6MpN9"
      },
      "execution_count": 93,
      "outputs": []
    },
    {
      "cell_type": "code",
      "source": [
        "svm = make_pipeline(StandardScaler(), DecisionTreeClassifier(max_features=4))\n",
        "_=svm.fit(x_train,y_train)\n",
        "score=svm.score(x_test,y_test)"
      ],
      "metadata": {
        "id": "iQGXGH-JPbd3"
      },
      "execution_count": 113,
      "outputs": []
    },
    {
      "cell_type": "code",
      "source": [
        "print(score)"
      ],
      "metadata": {
        "colab": {
          "base_uri": "https://localhost:8080/"
        },
        "id": "s7nC5uCKPh4e",
        "outputId": "5c0d55b1-7df4-4983-82e5-915b36571377"
      },
      "execution_count": 114,
      "outputs": [
        {
          "output_type": "stream",
          "name": "stdout",
          "text": [
            "0.30745341614906835\n"
          ]
        }
      ]
    },
    {
      "cell_type": "code",
      "source": [
        "max_score=0\n",
        "depth=1\n",
        "for k in range(1,100):\n",
        "  tree = make_pipeline(StandardScaler(), DecisionTreeClassifier(max_depth=k))\n",
        "  _=tree.fit(x_train,y_train)\n",
        "  score=tree.score(x_test,y_test)\n",
        "  if score>max_score:\n",
        "    max_score=score\n",
        "    depth=k\n",
        "print(f\"depth = {depth} : score = {max_score}\")"
      ],
      "metadata": {
        "colab": {
          "base_uri": "https://localhost:8080/"
        },
        "id": "hkCze4mqPyKO",
        "outputId": "56132208-2fed-490d-ddfc-28c55649a5be"
      },
      "execution_count": 120,
      "outputs": [
        {
          "output_type": "stream",
          "name": "stdout",
          "text": [
            "depth = 7 : score = 0.3581780538302277\n"
          ]
        }
      ]
    },
    {
      "cell_type": "markdown",
      "source": [
        "Random Forest"
      ],
      "metadata": {
        "id": "Qa1dgoL1Q1fU"
      }
    },
    {
      "cell_type": "code",
      "source": [
        "from sklearn.ensemble import RandomForestClassifier"
      ],
      "metadata": {
        "id": "SF1yETpUoeIk"
      },
      "execution_count": 121,
      "outputs": []
    },
    {
      "cell_type": "code",
      "source": [
        "max_score=0\n",
        "depth=1\n",
        "for k in range(1,len(feature_columns)+1):\n",
        "  tree = make_pipeline(StandardScaler(), RandomForestClassifier(max_depth=k))\n",
        "  _=tree.fit(x_train,y_train.ravel())\n",
        "  score=tree.score(x_test,y_test.ravel())\n",
        "  if score>max_score:\n",
        "    max_score=score\n",
        "    depth=k\n",
        "print(f\"depth = {depth} : score = {max_score}\")"
      ],
      "metadata": {
        "colab": {
          "base_uri": "https://localhost:8080/"
        },
        "id": "k3Jr1cO7Q0nj",
        "outputId": "5d1a28fd-9b2e-4254-ebb6-2a0a7f96c3b5"
      },
      "execution_count": 127,
      "outputs": [
        {
          "output_type": "stream",
          "name": "stdout",
          "text": [
            "depth = 7 : score = 0.38716356107660455\n"
          ]
        }
      ]
    },
    {
      "cell_type": "markdown",
      "source": [
        "Multi Layer Perceptron"
      ],
      "metadata": {
        "id": "6OPg-E81qi5g"
      }
    },
    {
      "cell_type": "code",
      "source": [
        "from sklearn.neural_network import MLPClassifier"
      ],
      "metadata": {
        "id": "WnjZgdMCpnZW"
      },
      "execution_count": 128,
      "outputs": []
    },
    {
      "cell_type": "code",
      "source": [
        "max_score=0\n",
        "num_features=1\n",
        "for k in range(1,len(feature_columns)+1):\n",
        "  nn = make_pipeline(StandardScaler(), PCA(n_components=k), MLPClassifier(random_state=1, max_iter=10000))\n",
        "  _=nn.fit(x_train,y_train.ravel())\n",
        "  score=nn.score(x_test,y_test.ravel())\n",
        "  if score>max_score:\n",
        "    max_score=score\n",
        "    num_features=k\n",
        "print(f\"num_features = {num_features} : score = {max_score}\")"
      ],
      "metadata": {
        "colab": {
          "base_uri": "https://localhost:8080/"
        },
        "id": "24yYrEh-qocK",
        "outputId": "5651ebdf-1a11-4493-ed1f-dc5c6aee2b99"
      },
      "execution_count": 134,
      "outputs": [
        {
          "output_type": "stream",
          "name": "stdout",
          "text": [
            "num_features = 5 : score = 0.41200828157349895\n"
          ]
        }
      ]
    },
    {
      "cell_type": "markdown",
      "source": [
        "Conclusion:\n",
        "\n",
        "*Using various classifiers, a maximum test score of 41.2% could be achieved which indicates that there is weak or no correlation between thee health of the county and the climate*"
      ],
      "metadata": {
        "id": "Nra1ynpOuFff"
      }
    },
    {
      "cell_type": "markdown",
      "source": [
        "---\n",
        "\n",
        "## 2. Correlation between Health of the county and number of pharmacies"
      ],
      "metadata": {
        "id": "nrqcebPBsQV3"
      }
    },
    {
      "cell_type": "code",
      "source": [
        ""
      ],
      "metadata": {
        "id": "aQ5k7-AHsPfH"
      },
      "execution_count": null,
      "outputs": []
    }
  ]
}